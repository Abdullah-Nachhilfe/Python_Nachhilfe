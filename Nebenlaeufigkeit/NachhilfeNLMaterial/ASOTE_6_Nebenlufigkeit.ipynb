{
 "cells": [
  {
   "cell_type": "markdown",
   "metadata": {
    "slideshow": {
     "slide_type": "slide"
    }
   },
   "source": [
    "\n",
    "# Vorlesung *Angewandte Softwaretechnik*\n",
    "## Nebenläufigkeit"
   ]
  },
  {
   "cell_type": "markdown",
   "metadata": {
    "slideshow": {
     "slide_type": "slide"
    }
   },
   "source": [
    "## Exkurs: Lokale und globale Variablen"
   ]
  },
  {
   "cell_type": "markdown",
   "metadata": {
    "slideshow": {
     "slide_type": "subslide"
    }
   },
   "source": [
    "**Warnung:** Globale Variablen sind zu vermeiden."
   ]
  },
  {
   "cell_type": "code",
   "execution_count": null,
   "metadata": {
    "scrolled": true,
    "slideshow": {
     "slide_type": "subslide"
    }
   },
   "outputs": [],
   "source": [
    "def foo():\n",
    "    print(n)\n",
    "\n",
    "n = 23\n",
    "foo()"
   ]
  },
  {
   "cell_type": "markdown",
   "metadata": {
    "slideshow": {
     "slide_type": "fragment"
    }
   },
   "source": [
    "- **Erklärung:** Die Variable `n` wurde *außerhalb* einer Funktion deklariert. Wir sagen: Sie ist **global**.\n",
    "    - `n` kann **sowohl** aus dem *globalen* Kontext (aus dem \"Hauptprogramm\") \n",
    "    - **als auch** aus Funktionen heraus aufgerufen werden.\n",
    "- **Merke:** Variablen, die *außerhalb* von Funktionen deklariert werden, nennen wir **global**."
   ]
  },
  {
   "cell_type": "code",
   "execution_count": null,
   "metadata": {
    "slideshow": {
     "slide_type": "subslide"
    }
   },
   "outputs": [],
   "source": [
    "def bar():\n",
    "    n = 42\n",
    "    print(n)\n",
    "\n",
    "n = 23\n",
    "bar()\n",
    "print(n)"
   ]
  },
  {
   "cell_type": "markdown",
   "metadata": {
    "slideshow": {
     "slide_type": "fragment"
    }
   },
   "source": [
    "- **Erklärung:** Im obigen Programm existiert **sowohl** eine *lokale* Variable `n` (Wert: 42) **als auch** eine *globale* Variable `n` (Wert: 23).\n",
    "- **Ursache:** Wir haben den Wert von `n` in `bar()` nicht nur benutzt, sondern wir haben `n` einen Wert **zugewiesen**.\n",
    "- **Merke:** Immer wenn wir in einer *Funktion* einer Variable einen Wert *zuweisen*, wird eine **lokale** Variable angelegt."
   ]
  },
  {
   "cell_type": "code",
   "execution_count": null,
   "metadata": {
    "slideshow": {
     "slide_type": "subslide"
    }
   },
   "outputs": [],
   "source": [
    "def bar():\n",
    "    n = 42\n",
    "    print('lokal: n = %s' % n)\n",
    "    \n",
    "n = 23\n",
    "bar()\n",
    "print('global: n = %s' % n)"
   ]
  },
  {
   "cell_type": "markdown",
   "metadata": {
    "slideshow": {
     "slide_type": "fragment"
    }
   },
   "source": [
    "- **Merke:** Wir können *globale* Variablen aus Funktionen zwar **lesen** aber -- im Normalfall -- **nicht verändern** (weil sonst eine *lokale* Variable angelegt wird)."
   ]
  },
  {
   "cell_type": "code",
   "execution_count": null,
   "metadata": {
    "slideshow": {
     "slide_type": "subslide"
    }
   },
   "outputs": [],
   "source": [
    "def foo():\n",
    "    global n\n",
    "    n = 42\n",
    "\n",
    "n = 23\n",
    "foo()\n",
    "print(n)"
   ]
  },
  {
   "cell_type": "markdown",
   "metadata": {
    "slideshow": {
     "slide_type": "fragment"
    }
   },
   "source": [
    "- **Merke:** Mit dem Schlüsselwort `global` erlauben wir einer Funktion den **schreibenden** Zugriff auf eine *globale* Variable."
   ]
  },
  {
   "cell_type": "markdown",
   "metadata": {
    "slideshow": {
     "slide_type": "subslide"
    }
   },
   "source": [
    "### Warum dieses Verhalten?\n",
    "\n",
    "- **Frage:** Warum ist es sinnvoll, dass wir globale Variablen zwar ohne weiteres **lesen**, aber nur nach ausdrücklicher Erklärung **schreiben** dürfen?"
   ]
  },
  {
   "cell_type": "markdown",
   "metadata": {
    "slideshow": {
     "slide_type": "fragment"
    }
   },
   "source": [
    "- **Antwort:** Dadurch vermeidet Python **unerwartete Seiteneffekte**.\n",
    "- **Beispiel:** Es könnte ja sein, dass Sie nur eine lokale Variable `n` verwenden möchten und gar nicht *wissen*, dass es auch eine globale Variable `n` gibt. In diesem Fall, sind Sie vermutlich froh, dass die Zeile `n = 42` im Normalfall nur eine lokale Variable anlegt, und nicht die globale Variable `n` überschreibt."
   ]
  },
  {
   "cell_type": "code",
   "execution_count": null,
   "metadata": {
    "slideshow": {
     "slide_type": "subslide"
    }
   },
   "outputs": [],
   "source": [
    "def inc():\n",
    "    global n\n",
    "    n += 1\n",
    "\n",
    "def dec():\n",
    "    global n\n",
    "    n -= 1\n",
    "\n",
    "n = 4710\n",
    "dec()\n",
    "inc()\n",
    "inc()\n",
    "print(n)"
   ]
  },
  {
   "cell_type": "code",
   "execution_count": null,
   "metadata": {
    "slideshow": {
     "slide_type": "skip"
    }
   },
   "outputs": [],
   "source": [
    "def erhöhe_n():\n",
    "    global n\n",
    "    n += 1\n",
    "\n",
    "def erhöhe(wert):\n",
    "    return wert + 1\n",
    "\n",
    "n = 21\n",
    "\n",
    "erhöhe_n()\n",
    "n = erhöhe(n)\n",
    "\n",
    "print(n)"
   ]
  },
  {
   "cell_type": "markdown",
   "metadata": {
    "slideshow": {
     "slide_type": "skip"
    }
   },
   "source": [
    "**Frage:** Welche der beiden obigen Funktionen erzeugt eher Probleme, die Sie sehr schwer debuggen können?"
   ]
  },
  {
   "cell_type": "markdown",
   "metadata": {
    "slideshow": {
     "slide_type": "subslide"
    }
   },
   "source": [
    "### Seiteneffekte\n",
    "\n",
    "Wenn eine Funktion den Wert einer globalen Variablen verändert, sagen wir: die Funktion hat einen **Seiteneffekt**."
   ]
  },
  {
   "cell_type": "markdown",
   "metadata": {
    "slideshow": {
     "slide_type": "fragment"
    }
   },
   "source": [
    "#### Nachteile\n",
    "- Beim Programmieren ist nicht ohne weiteres zu erkennen, ob eine Funktion einen Seiteneffekt hat: Seiteneffekte begünstigen daher **Programmierfehler**.\n",
    "- Seiteneffekte machen Code schwerer verständlich. Fehler, die durch Seiteneffekte entstehen, sind **schwer zu debuggen**.\n",
    "- Seiteneffekte machen Funktionen **schwieriger zu testen**."
   ]
  },
  {
   "cell_type": "markdown",
   "metadata": {
    "slideshow": {
     "slide_type": "subslide"
    }
   },
   "source": [
    "**Merke:** Vermeiden Sie **Seiteneffekte**, wo immer es möglich ist."
   ]
  },
  {
   "cell_type": "markdown",
   "metadata": {
    "slideshow": {
     "slide_type": "fragment"
    }
   },
   "source": [
    "**Merke:** Vermeiden Sie **globale Variablen**, wo immer es möglich ist."
   ]
  },
  {
   "cell_type": "markdown",
   "metadata": {
    "slideshow": {
     "slide_type": "slide"
    }
   },
   "source": [
    "## Nebenläufigkeit und Parallelität\n",
    "\n",
    "Was wir meinen, wenn wir \"gleichzeitig\" sagen."
   ]
  },
  {
   "cell_type": "markdown",
   "metadata": {
    "slideshow": {
     "slide_type": "subslide"
    }
   },
   "source": [
    "### Was bedeutet \"Parallelität\"?"
   ]
  },
  {
   "cell_type": "markdown",
   "metadata": {
    "slideshow": {
     "slide_type": "fragment"
    }
   },
   "source": [
    "- **Parallelität:** Zwei Befehle werden **physikalisch gleichzeitig** ausgeführt.\n",
    "<img src='diag_parallel.svg' height=20%>"
   ]
  },
  {
   "cell_type": "markdown",
   "metadata": {
    "slideshow": {
     "slide_type": "fragment"
    }
   },
   "source": [
    "- **Zweck:** Beschleunigung von Berechnungen (Stichwort: *parallele Algorithmen*).\n",
    "- **Realisierung** auf Hardware-Ebene auf modernen Mehr-Kern-Prozessoren."
   ]
  },
  {
   "cell_type": "markdown",
   "metadata": {
    "slideshow": {
     "slide_type": "subslide"
    }
   },
   "source": [
    "### Was bedeutet \"Nebenläufigkeit\"?"
   ]
  },
  {
   "cell_type": "markdown",
   "metadata": {
    "slideshow": {
     "slide_type": "subslide"
    }
   },
   "source": [
    "- **Nebenläufigkeit:** Zwei **Vorgänge** werden **im gleichen Zeitraum** ausgeführt.\n",
    "<img src='diag_concurrent.svg' hieght=20%>"
   ]
  },
  {
   "cell_type": "markdown",
   "metadata": {
    "slideshow": {
     "slide_type": "fragment"
    }
   },
   "source": [
    "- **Zweck:** Verschiedene Vorgänge sollen sich gegenseitig nicht blockieren. \n",
    "  - *Beispiel*: Eine Benutzeroberfläche soll während einer langwierigen Berechnung nicht blockieren. Die Berechnung soll *im Hintergrund* ablaufen."
   ]
  },
  {
   "cell_type": "markdown",
   "metadata": {
    "slideshow": {
     "slide_type": "fragment"
    }
   },
   "source": [
    "- **Realisierung** ist rein auf Softwareebene möglich. (Verarbeitung schaltet zwischen verschiedenen Prozessen hin und her.)"
   ]
  },
  {
   "cell_type": "markdown",
   "metadata": {
    "slideshow": {
     "slide_type": "subslide"
    }
   },
   "source": [
    "### Threads vs. Prozesse"
   ]
  },
  {
   "cell_type": "markdown",
   "metadata": {
    "slideshow": {
     "slide_type": "fragment"
    }
   },
   "source": [
    "**Threads** und **Prozesse** sind zwei Formen, Nebenläufigkeit zu realisieren."
   ]
  },
  {
   "cell_type": "markdown",
   "metadata": {
    "slideshow": {
     "slide_type": "subslide"
    }
   },
   "source": [
    "- **Prozesse**:\n",
    "    - werden vom *Betriebssystem* verwaltet,\n",
    "    - arbeiten im Allgemeinen auf *getrennten Ressourcen* (Kommunikation ist aber möglich).\n",
    "    - *Beispiel:* Auf dem Handy laufen gleichzeitig *Spotify* und *Telegram*."
   ]
  },
  {
   "cell_type": "markdown",
   "metadata": {
    "slideshow": {
     "slide_type": "subslide"
    }
   },
   "source": [
    "- **Threads**:\n",
    "    - sind nebenläufige Abläufe **innerhalb** eines Programms,\n",
    "    - arbeiten auf den **gleichen** Daten (viele neue **Fehlerquellen**).\n",
    "    - *Beispiel:* Sie können WhatsApp-Nachrichten empfangen, während *gleichzeitig* ein Upload läuft."
   ]
  },
  {
   "cell_type": "markdown",
   "metadata": {
    "slideshow": {
     "slide_type": "subslide"
    }
   },
   "source": [
    "### Zusammenfassung\n",
    "- **Nebenläufigkeit** bedeutet: mehrere Vorgänge laufen im gleichen Zeitraum.\n",
    "- **Parallelität** ist ein *Spezialfall der Nebenläufigkeit*.\n",
    "- *Nebenläufigkeit* kann **mit und ohne** Parallelität realisiert werden.\n",
    "- **Prozesse** werden vom Betriebssystem verwaltet und arbeiten auf *getrennten* Ressourcen.\n",
    "- **Threads** existieren *innerhalb* eines Programms und arbeiten auf den *gleichen* Daten."
   ]
  },
  {
   "cell_type": "markdown",
   "metadata": {
    "slideshow": {
     "slide_type": "subslide"
    }
   },
   "source": [
    "### Unser Thema: *Nebenläufigkeit* mit *Threads*\n",
    "- Wie arbeite ich mit Threads?\n",
    "- Welche Probleme können auftreten?\n",
    "- Wie löse ich diese Probleme?"
   ]
  },
  {
   "cell_type": "markdown",
   "metadata": {
    "slideshow": {
     "slide_type": "slide"
    }
   },
   "source": [
    "### Das Modul `threading`"
   ]
  },
  {
   "cell_type": "code",
   "execution_count": 1,
   "metadata": {
    "slideshow": {
     "slide_type": "subslide"
    }
   },
   "outputs": [
    {
     "name": "stdout",
     "output_type": "stream",
     "text": [
      "ASOTE"
     ]
    }
   ],
   "source": [
    "from time import sleep\n",
    "\n",
    "def slow(text):\n",
    "    for char in text:\n",
    "        sleep(0.5)\n",
    "        print(char, end='')\n",
    "    \n",
    "slow('ASOTE')"
   ]
  },
  {
   "cell_type": "code",
   "execution_count": null,
   "metadata": {},
   "outputs": [],
   "source": []
  },
  {
   "cell_type": "code",
   "execution_count": 2,
   "metadata": {
    "slideshow": {
     "slide_type": "subslide"
    }
   },
   "outputs": [
    {
     "name": "stdout",
     "output_type": "stream",
     "text": [
      "foo"
     ]
    }
   ],
   "source": [
    "from threading import Thread\n",
    "\n",
    "#slow('foo')\n",
    "t = Thread(target=slow, args=('foo',))\n",
    "t.start()"
   ]
  },
  {
   "cell_type": "markdown",
   "metadata": {
    "slideshow": {
     "slide_type": "fragment"
    }
   },
   "source": [
    "- **Frage:** Ist das nur eine komische Art, Funktionen aufzurufen?"
   ]
  },
  {
   "cell_type": "code",
   "execution_count": 3,
   "metadata": {
    "scrolled": true,
    "slideshow": {
     "slide_type": "subslide"
    }
   },
   "outputs": [
    {
     "name": "stdout",
     "output_type": "stream",
     "text": [
      "fboaro"
     ]
    }
   ],
   "source": [
    "t1 = Thread(target=slow, args=('foo',))\n",
    "t2 = Thread(target=slow, args=('bar',))\n",
    "t1.start()\n",
    "t2.start()"
   ]
  },
  {
   "cell_type": "markdown",
   "metadata": {
    "slideshow": {
     "slide_type": "fragment"
    }
   },
   "source": [
    "- **Frage:** Also laufen die beiden Threads parallel?\n",
    "- **Antwort:** Nein, sie laufen **nebenläufig**."
   ]
  },
  {
   "cell_type": "markdown",
   "metadata": {
    "slideshow": {
     "slide_type": "fragment"
    }
   },
   "source": [
    "**Merke:**\n",
    "1. Beide Parameter sind **benannt**:\n",
    "    - <code>t1 = Thread(<mark>target</mark>=slow, <mark>args</mark>=('foo',))</code>\n",
    "1. Als `target` übergeben wir nur den **Namen** der Methode (ohne `()`):\n",
    "    - <code>t1 = Thread(target=<mark>slow</mark>, args=('foo',))</code>\n",
    "1. Die Parameter werden als **Tupel** übergeben:\n",
    "    - <code>t1 = Thread(target=slow, args=<mark>('foo',)</mark>)</code>\n"
   ]
  },
  {
   "cell_type": "code",
   "execution_count": 4,
   "metadata": {
    "scrolled": true,
    "slideshow": {
     "slide_type": "subslide"
    }
   },
   "outputs": [
    {
     "name": "stdout",
     "output_type": "stream",
     "text": [
      "<class 'str'>\n",
      "<class 'str'>\n",
      "<class 'tuple'>\n"
     ]
    }
   ],
   "source": [
    "param1 = 'foo'\n",
    "param2 = ('foo')\n",
    "param3 = ('foo', )\n",
    "print(type(param1))\n",
    "print(type(param2))\n",
    "print(type(param3))     "
   ]
  },
  {
   "cell_type": "markdown",
   "metadata": {
    "slideshow": {
     "slide_type": "fragment"
    }
   },
   "source": [
    "**Merke:** Das zusätzliche **Komma** in `('foo',)` ist notwendig, um ein **1-elementiges Tupel** zu kennzeichnen.\n"
   ]
  },
  {
   "cell_type": "code",
   "execution_count": 5,
   "metadata": {
    "scrolled": true,
    "slideshow": {
     "slide_type": "subslide"
    }
   },
   "outputs": [
    {
     "name": "stdout",
     "output_type": "stream",
     "text": [
      "Hier endet das Programm. Vielen Dank und gute Nacht!\n",
      "fboaro"
     ]
    }
   ],
   "source": [
    "t1 = Thread(target=slow, args=('foo',))\n",
    "t2 = Thread(target=slow, args=('bar',))\n",
    "t1.start()\n",
    "t2.start()\n",
    "\n",
    "print('Hier endet das Programm. Vielen Dank und gute Nacht!')"
   ]
  },
  {
   "cell_type": "markdown",
   "metadata": {
    "slideshow": {
     "slide_type": "fragment"
    }
   },
   "source": [
    "- **Merke:** Ein Thread kann länger \"leben\" als das Hauptprogramm."
   ]
  },
  {
   "cell_type": "code",
   "execution_count": null,
   "metadata": {
    "scrolled": true,
    "slideshow": {
     "slide_type": "subslide"
    }
   },
   "outputs": [],
   "source": [
    "t1 = Thread(target=slow, args=('foo',))\n",
    "t2 = Thread(target=slow, args=('bar',))\n",
    "t1.start()\n",
    "t2.start()\n",
    "t1.join()\n",
    "t2.join()\n",
    "print('\\nHier endet das Programm. Vielen Dank und gute Nacht!')"
   ]
  },
  {
   "cell_type": "markdown",
   "metadata": {
    "slideshow": {
     "slide_type": "fragment"
    }
   },
   "source": [
    "- **Merke:** Mit `Thread.join()` warten wir, bis ein bestimmter Thread fertig ausgeführt wurde."
   ]
  },
  {
   "cell_type": "markdown",
   "metadata": {
    "slideshow": {
     "slide_type": "slide"
    }
   },
   "source": [
    "### Anwendungsbeispiel: Nebenläufige Webcalls"
   ]
  },
  {
   "cell_type": "code",
   "execution_count": null,
   "metadata": {
    "slideshow": {
     "slide_type": "subslide"
    }
   },
   "outputs": [],
   "source": [
    "import json\n",
    "import requests\n",
    "from pprint import pprint\n",
    "\n",
    "url = 'https://restcountries.eu/rest/v2/name/Germany'\n",
    "res = requests.get(url)\n",
    "if (res.status_code == 200):\n",
    "    print(res.content.decode()[:250])"
   ]
  },
  {
   "cell_type": "code",
   "execution_count": null,
   "metadata": {
    "slideshow": {
     "slide_type": "subslide"
    }
   },
   "outputs": [],
   "source": [
    "import json\n",
    "import requests\n",
    "\n",
    "def finde_hauptstadt(name):\n",
    "    url = 'https://restcountries.eu/rest/v2/name/%s' % name\n",
    "    res = requests.get(url)\n",
    "    if (res.status_code == 200):\n",
    "        land = json.loads(res.content.decode())\n",
    "        return land[0]['capital']\n",
    "    \n",
    "print(finde_hauptstadt('Cook Islands'))    "
   ]
  },
  {
   "cell_type": "markdown",
   "metadata": {
    "slideshow": {
     "slide_type": "subslide"
    }
   },
   "source": [
    "#### Zeitmessung"
   ]
  },
  {
   "cell_type": "code",
   "execution_count": null,
   "metadata": {
    "scrolled": true,
    "slideshow": {
     "slide_type": "fragment"
    }
   },
   "outputs": [],
   "source": [
    "import time\n",
    "\n",
    "jetzt = time.time()\n",
    "\n",
    "print(jetzt)\n",
    "print(type(jetzt))"
   ]
  },
  {
   "cell_type": "code",
   "execution_count": null,
   "metadata": {
    "scrolled": true,
    "slideshow": {
     "slide_type": "subslide"
    }
   },
   "outputs": [],
   "source": [
    "import time\n",
    "\n",
    "tic = time.time()\n",
    "h1 = finde_hauptstadt('Indonesia')\n",
    "print(h1)\n",
    "toc = time.time()\n",
    "\n",
    "print(\"Zeit: %.3f Sekunden.\" % (toc-tic))"
   ]
  },
  {
   "cell_type": "code",
   "execution_count": null,
   "metadata": {
    "scrolled": true,
    "slideshow": {
     "slide_type": "subslide"
    }
   },
   "outputs": [],
   "source": [
    "import time\n",
    "\n",
    "tic = time.time()\n",
    "h1 = finde_hauptstadt('Morocco')\n",
    "h2 = finde_hauptstadt('Egypt')\n",
    "print(h1)\n",
    "print(h2)\n",
    "toc = time.time()\n",
    "\n",
    "print(\"Zeit: %.3f Sekunden.\" % (toc-tic))"
   ]
  },
  {
   "cell_type": "markdown",
   "metadata": {
    "slideshow": {
     "slide_type": "fragment"
    }
   },
   "source": [
    "**Wir stellen fest:** Webcalls nacheinander abzusetzen ist ineffizient."
   ]
  },
  {
   "cell_type": "code",
   "execution_count": null,
   "metadata": {
    "scrolled": true,
    "slideshow": {
     "slide_type": "subslide"
    }
   },
   "outputs": [],
   "source": [
    "from threading import Thread\n",
    "\n",
    "tic = time.time()\n",
    "\n",
    "t1 = Thread(target=finde_hauptstadt, args=('Morocco',))\n",
    "t2 = Thread(target=finde_hauptstadt, args=('Egypt',))\n",
    "t1.start()\n",
    "t2.start()\n",
    "t1.join()\n",
    "t2.join()\n",
    "toc = time.time()\n",
    "\n",
    "print(\"Zeit: %.3f Sekunden.\" % (toc-tic))"
   ]
  },
  {
   "cell_type": "markdown",
   "metadata": {
    "slideshow": {
     "slide_type": "fragment"
    }
   },
   "source": [
    "- **Wir stellen fest:** *Nebenläufige* Webcalls sind wesentlich effizienter.\n",
    "- **Aber:** Wie kommen wir jetzt an das Ergebnis der Webcalls?"
   ]
  },
  {
   "cell_type": "markdown",
   "metadata": {
    "slideshow": {
     "slide_type": "subslide"
    }
   },
   "source": [
    "**Merke:** Wenn wir eine Funktion in einem eigenen Thread aufrufen, haben wir **keine** Möglichkeit, den Rückgabewert der Funktion zu nutzen."
   ]
  },
  {
   "cell_type": "code",
   "execution_count": null,
   "metadata": {
    "slideshow": {
     "slide_type": "subslide"
    }
   },
   "outputs": [],
   "source": [
    "def map_hauptstadt(land_name, ziel_dict):\n",
    "    hauptstadt = finde_hauptstadt(land_name)\n",
    "    ziel_dict[land_name] = hauptstadt\n",
    "    \n",
    "capitals = {}\n",
    "map_hauptstadt('Argentina', capitals)\n",
    "print(capitals)"
   ]
  },
  {
   "cell_type": "markdown",
   "metadata": {
    "slideshow": {
     "slide_type": "fragment"
    }
   },
   "source": [
    "**Lösung:** Wir hinterlegen die Ergebnisse in einem Dictionary."
   ]
  },
  {
   "cell_type": "code",
   "execution_count": null,
   "metadata": {
    "scrolled": true,
    "slideshow": {
     "slide_type": "subslide"
    }
   },
   "outputs": [],
   "source": [
    "tic = time.time()\n",
    "\n",
    "capitals = {}\n",
    "t1 = Thread(target=map_hauptstadt, args=('Morocco', capitals))\n",
    "t2 = Thread(target=map_hauptstadt, args=('Egypt', capitals))\n",
    "t1.start()\n",
    "t2.start()\n",
    "t1.join()\n",
    "t2.join()\n",
    "print(capitals)\n",
    "\n",
    "toc = time.time()\n",
    "\n",
    "print(\"Zeit: %.3f Sekunden.\" % (toc-tic))"
   ]
  },
  {
   "cell_type": "code",
   "execution_count": null,
   "metadata": {
    "scrolled": true,
    "slideshow": {
     "slide_type": "skip"
    }
   },
   "outputs": [],
   "source": [
    "tic = time.time()\n",
    "laender = ['Belgien', 'Chile', 'Benin', 'Laos']\n",
    "capitals = {}\n",
    "threads = []\n",
    "for land in laender:\n",
    "    thread = Thread(target=map_hauptstadt, args=(land, capitals))\n",
    "    thread.start()\n",
    "    threads.append(thread) \n",
    "for thread in threads:  \n",
    "    thread.join()\n",
    "print(capitals)\n",
    "toc = time.time()\n",
    "print(\"Zeit: %.3f Sekunden.\" % (toc-tic))"
   ]
  },
  {
   "cell_type": "markdown",
   "metadata": {
    "slideshow": {
     "slide_type": "slide"
    }
   },
   "source": [
    "## Race Conditions"
   ]
  },
  {
   "cell_type": "markdown",
   "metadata": {
    "slideshow": {
     "slide_type": "subslide"
    }
   },
   "source": [
    "- **Wir stellen fest:** Mit Threads können wir mehrere Dinge **\"gleichzeitig\"** zu tun.\n",
    "- **Frage:** Hat diese Technik auch Nachteile?"
   ]
  },
  {
   "cell_type": "markdown",
   "metadata": {
    "slideshow": {
     "slide_type": "fragment"
    }
   },
   "source": [
    "- **Antwort:** Leider **ja**.\n",
    "- **Vor allem:** viele neue Fehlerquellen. Noch dazu solche, die sich mit dem *Debugger* schlecht finden lassen."
   ]
  },
  {
   "cell_type": "markdown",
   "metadata": {
    "slideshow": {
     "slide_type": "subslide"
    }
   },
   "source": [
    "### Beispiel: Bankkonten"
   ]
  },
  {
   "cell_type": "code",
   "execution_count": null,
   "metadata": {
    "slideshow": {
     "slide_type": "fragment"
    }
   },
   "outputs": [],
   "source": [
    "from pprint import pprint\n",
    "import time\n",
    "\n",
    "konto = {'nummer': 'A123',\n",
    "         'saldo': 1000,\n",
    "         'limit': -1000}\n",
    "\n",
    "pprint(konto)"
   ]
  },
  {
   "cell_type": "markdown",
   "metadata": {
    "slideshow": {
     "slide_type": "fragment"
    }
   },
   "source": [
    "- `'nummer'` = Kontonummer\n",
    "- `'saldo'` = der aktuelle Kontostand\n",
    "- `'limit'` = das Kreditlimit (nach jeder Buchung muss gelten: `saldo` $\\geq$ `limit`)\n"
   ]
  },
  {
   "cell_type": "code",
   "execution_count": null,
   "metadata": {
    "slideshow": {
     "slide_type": "subslide"
    }
   },
   "outputs": [],
   "source": [
    "def verbuche(betrag, konto):\n",
    "    saldo_neu = konto['saldo'] + betrag\n",
    "    if saldo_neu >= konto['limit']:\n",
    "        konto['saldo'] = saldo_neu\n",
    "\n",
    "konto = {'nummer': 'A123', 'saldo': 1000, 'limit': -1000}\n",
    "verbuche(-2500, konto)\n",
    "print(konto)"
   ]
  },
  {
   "cell_type": "markdown",
   "metadata": {
    "slideshow": {
     "slide_type": "fragment"
    }
   },
   "source": [
    "- Die Funktion `verbuche(<betrag>, <konto>)` führt eine Kontobuchung mit Prüfung des Kreditlimits durch."
   ]
  },
  {
   "cell_type": "code",
   "execution_count": null,
   "metadata": {
    "slideshow": {
     "slide_type": "subslide"
    }
   },
   "outputs": [],
   "source": [
    "from numpy import random\n",
    "\n",
    "def verbuche(betrag, konto):\n",
    "    saldo_neu = konto['saldo'] + betrag\n",
    "    if saldo_neu >= konto['limit']:\n",
    "        time.sleep(0.01 * random.rand()) # künstliche Verzögerung\n",
    "        konto['saldo'] = saldo_neu"
   ]
  },
  {
   "cell_type": "markdown",
   "metadata": {
    "slideshow": {
     "slide_type": "fragment"
    }
   },
   "source": [
    "- Wir bauen eine **künstliche Verzögerung** ein, weil das Problem, das wir zeigen wollen, sonst sehr selten auftritt."
   ]
  },
  {
   "cell_type": "markdown",
   "metadata": {
    "slideshow": {
     "slide_type": "fragment"
    }
   },
   "source": [
    "- Auch in der **Wirklichkeit** kommen beim Programmablauf **Verzögerungen** vor. Diese sind aber weniger gut kontrollierbar."
   ]
  },
  {
   "cell_type": "code",
   "execution_count": null,
   "metadata": {
    "slideshow": {
     "slide_type": "skip"
    }
   },
   "outputs": [],
   "source": [
    "konto = {'nummer': 'A123', 'saldo': 1000, 'limit': -1000}\n",
    "verbuche(-600, konto)\n",
    "print(konto)\n",
    "verbuche(-600, konto)\n",
    "print(konto)\n",
    "verbuche(-600, konto)\n",
    "print(konto)\n",
    "verbuche(-600, konto)\n",
    "print(konto)"
   ]
  },
  {
   "cell_type": "code",
   "execution_count": null,
   "metadata": {
    "scrolled": true,
    "slideshow": {
     "slide_type": "subslide"
    }
   },
   "outputs": [],
   "source": [
    "from threading import Thread\n",
    "\n",
    "konto = {'nummer': 'A123', 'saldo': 1000, 'limit': -1000}\n",
    "t1 = Thread(target=verbuche, args=(500, konto))\n",
    "t2 = Thread(target=verbuche, args=(-500, konto))\n",
    "t1.start()\n",
    "t2.start()\n",
    "t1.join()\n",
    "t2.join()\n",
    "\n",
    "print(konto)    "
   ]
  },
  {
   "cell_type": "markdown",
   "metadata": {
    "slideshow": {
     "slide_type": "fragment"
    }
   },
   "source": [
    "**Bebachtung:** Wenn wir mit mehreren Threads **gleichzeitig** auf das Konto zugreifen, ist der Saldo (zufällig) `500` oder `1500`. **Warum?**"
   ]
  },
  {
   "cell_type": "code",
   "execution_count": null,
   "metadata": {
    "slideshow": {
     "slide_type": "skip"
    }
   },
   "outputs": [],
   "source": [
    "def verbuche(betrag, konto):\n",
    "    nummer = konto['nummer']\n",
    "    saldo = konto['saldo']\n",
    "    limit = konto['limit']\n",
    "    saldo_neu = saldo + betrag\n",
    "    if saldo_neu >= limit:\n",
    "        time.sleep(0.01 * random.rand()) # künstliche Verzögerung\n",
    "        konto['saldo'] = saldo_neu\n",
    "        print('[%s] %s + (%s) = %s' % (nummer, saldo, betrag, saldo_neu))\n",
    "    else:\n",
    "        print('[%s] Buchung abgelehnt: %s' % (nummer, betrag))"
   ]
  },
  {
   "cell_type": "markdown",
   "metadata": {
    "slideshow": {
     "slide_type": "skip"
    }
   },
   "source": [
    "- Wir versehen die Funktion mit ausführlicher **Ausgabe**."
   ]
  },
  {
   "cell_type": "code",
   "execution_count": null,
   "metadata": {
    "scrolled": true,
    "slideshow": {
     "slide_type": "skip"
    }
   },
   "outputs": [],
   "source": [
    "from threading import Thread\n",
    "\n",
    "konto = {'nummer': 'A123', 'saldo': 1000, 'limit': -1000}\n",
    "t1 = Thread(target=verbuche, args=(500, konto))\n",
    "t2 = Thread(target=verbuche, args=(-500, konto))\n",
    "t1.start()\n",
    "t2.start()\n",
    "t1.join()\n",
    "t2.join()\n",
    "\n",
    "print(konto)"
   ]
  },
  {
   "cell_type": "markdown",
   "metadata": {
    "slideshow": {
     "slide_type": "subslide"
    }
   },
   "source": [
    "### Möglicher Ablauf 1\n",
    "\n",
    "| Thread 1 | Thread 2 | Konto |\n",
    "| --- | --- | --- |\n",
    "| `betrag = 500`| `betrag = -500`| <code>{'nummer': 'A123', <mark>'saldo': 1000</mark>, 'limit': -1000}</code> |\n",
    "| `saldo = 1000` | |\n",
    "| `saldo_neu = 1500` | |\n",
    "| &nbsp; | `saldo = 1000` | \n",
    "| &nbsp; | `saldo_neu = 500` | \n",
    "| &nbsp; | `konto['saldo'] = 500` | \n",
    "| `konto['saldo'] = 1500` | |\n",
    "| | | <code>{'nummer': 'A123', <mark>'saldo': 1500</mark>, 'limit': -1000}</code> |\n"
   ]
  },
  {
   "cell_type": "markdown",
   "metadata": {
    "slideshow": {
     "slide_type": "subslide"
    }
   },
   "source": [
    "### Möglicher Ablauf 2\n",
    "\n",
    "| Thread 1 | Thread 2 | Konto |\n",
    "| --- | --- | --- |\n",
    "| `betrag = 500`| `betrag = -500`| <code>{'nummer': 'A123', <mark>'saldo': 1000</mark>, 'limit': -1000}</code> |\n",
    "| `saldo = 1000` | |\n",
    "| `saldo_neu = 1500` | |\n",
    "| &nbsp; | `saldo = 1000` | \n",
    "| &nbsp; | `saldo_neu = 500` | \n",
    "| `konto['saldo'] = 1500` | |\n",
    "| &nbsp; | `konto['saldo'] = 500` | \n",
    "| | | <code>{'nummer': 'A123', <mark>'saldo': 500</mark>, 'limit': -1000}</code> |\n"
   ]
  },
  {
   "cell_type": "markdown",
   "metadata": {
    "slideshow": {
     "slide_type": "subslide"
    }
   },
   "source": [
    "### Möglicher Ablauf 3\n",
    "\n",
    "| Thread 1 | Thread 2 | Konto |\n",
    "| --- | --- | --- |\n",
    "| `betrag = 500`| `betrag = -500`| <code>{'nummer': 'A123', <mark>'saldo': 1000</mark>, 'limit': -1000}</code> |\n",
    "| `saldo = 1000` | |\n",
    "| `saldo_neu = 1500` | |\n",
    "| `konto['saldo'] = 1500` | |\n",
    "| &nbsp; | `saldo = 1500` | \n",
    "| &nbsp; | `saldo_neu = 1000` | \n",
    "| &nbsp; | `konto['saldo'] = 1000` | \n",
    "| | | <code>{'nummer': 'A123', <mark>'saldo': 1000</mark>, 'limit': -1000}</code> |\n"
   ]
  },
  {
   "cell_type": "markdown",
   "metadata": {
    "slideshow": {
     "slide_type": "subslide"
    }
   },
   "source": [
    "### Race Condition *(\"Wettbewerbs-Situation\")*\n",
    "\n",
    "- *In der Elektronik*: Jede Situation, in der das Ergebnis einer Berechnung davon abhängt, in welcher Reihenfolge Signale eintreffen.\n",
    "- **In der Informatik:** Eine Situation, in der die **nebenläufige Ausführung** zu einem **unerlaubten Zustand** des Programms führt."
   ]
  },
  {
   "cell_type": "markdown",
   "metadata": {
    "slideshow": {
     "slide_type": "fragment"
    }
   },
   "source": [
    "**Merke:** Wenn ein Programm bei **nebenläufiger** Ausführung in einen unerlaubten Zustand gerät, der bei **sequentieller** (=nicht nebenläufiger) Ausführung nicht erreichbar gewesen wäre, haben wir eine **Race Condition**."
   ]
  },
  {
   "cell_type": "markdown",
   "metadata": {
    "slideshow": {
     "slide_type": "subslide"
    }
   },
   "source": [
    "### Geteilte Ressourcen *(shared resources)*\n",
    "- Das Dictionary `konto` ist ein Beispiel für eine **geteilte Ressource**.\n",
    "  - **Resource** = ein **Gerät** oder eine **Information**, worauf wir per Software zugreifen können\n",
    "  - **geteilt** = von mehreren Threads (oder Prozessen) verwendet\n",
    "  "
   ]
  },
  {
   "cell_type": "markdown",
   "metadata": {
    "slideshow": {
     "slide_type": "fragment"
    }
   },
   "source": [
    "- Eine **Race Condition** tritt auf, wenn\n",
    "  - mehrere Threads (oder Prozesse) **gleichzeitig** auf eine geteilte Resource zugreifen\n",
    "  - und mindestens einer davon die Resource **verändert**.\n",
    "  \n",
    "**Merke:** Wird eine geteilte Ressource von allen Threads nur *gelesen* haben wir kein Problem."
   ]
  },
  {
   "cell_type": "markdown",
   "metadata": {
    "slideshow": {
     "slide_type": "slide"
    }
   },
   "source": [
    "<center>\n",
    "<div style=\"position:relative\">\n",
    "    <img style=\"width:70%\" src='bread.jpg'>\n",
    "    <div style=\"position:absolute;bottom:50px;left:50%\">\n",
    "        <h2 style=\"background-color:white\">&nbsp;Das Bäcker-Problem&nbsp;</h2>\n",
    "        <p style=\"background-color:white\">&nbsp;Wie wir Race Conditions verhindern können&nbsp;</p>\n",
    "    </div>\n",
    "</div>\n",
    "</center>"
   ]
  },
  {
   "cell_type": "markdown",
   "metadata": {
    "slideshow": {
     "slide_type": "subslide"
    }
   },
   "source": [
    "### Das  Bäcker-Problem\n",
    "| Person A | Person B |\n",
    "| --- | --- |\n",
    "| Es ist kein Brot da |  |\n",
    "| Zum Bäcker gehen |  |\n",
    "| &nbsp; | Es ist kein Brot da | \n",
    "| &nbsp; | Zum Bäcker gehen | \n",
    "| &nbsp; | Brot kaufen | \n",
    "| Brot kaufen |  |\n",
    "\n",
    "**Ergebnis:** Wir haben zwei Laib Brot."
   ]
  },
  {
   "cell_type": "markdown",
   "metadata": {
    "slideshow": {
     "slide_type": "subslide"
    }
   },
   "source": [
    "<h3>Die Lösung: Das Brot-Token</h3>\n",
    "<center>\n",
    "<img src='signboard-brot.png' width=40%>\n",
    "</center>"
   ]
  },
  {
   "cell_type": "markdown",
   "metadata": {
    "slideshow": {
     "slide_type": "fragment"
    }
   },
   "source": [
    "- **Lösung:** Ich gehe nur zum Bäcker, wenn das Brot-Token da ist. Wenn es da ist, nehme ich es mit.\n",
    "- **Erkenntnis:** Wir brauchen eine Art **Token** um sicherzustellen, dass nur **ein Thread gleichzeitig** eine kritische Resource (z.B. `konto`) bearbeitet."
   ]
  },
  {
   "cell_type": "code",
   "execution_count": null,
   "metadata": {
    "slideshow": {
     "slide_type": "subslide"
    }
   },
   "outputs": [],
   "source": [
    "from threading import Lock\n",
    "\n",
    "konto_lock = Lock() # ein Token für Kontobuchungen"
   ]
  },
  {
   "cell_type": "markdown",
   "metadata": {
    "slideshow": {
     "slide_type": "fragment"
    }
   },
   "source": [
    "- **Merke:** Wir importieren die Klasse `Lock` aus `threading`.\n",
    "- **Merke:** Mit der Anweisung `Lock()` erstellen wir ein Lock-Token. (Dieses sollten wir in einer Variable hinterlegen z.B. `lock`.)"
   ]
  },
  {
   "cell_type": "code",
   "execution_count": null,
   "metadata": {
    "slideshow": {
     "slide_type": "subslide"
    }
   },
   "outputs": [],
   "source": [
    "from threading import Lock\n",
    "from numpy import random\n",
    "from time import sleep\n",
    "\n",
    "konto_lock = Lock()\n",
    "\n",
    "def verbuche(betrag, konto):\n",
    "    with konto_lock: # Blockiere mit globalem Lock-Token\n",
    "        saldo_neu = konto['saldo'] + betrag\n",
    "        if saldo_neu >= konto['limit']:\n",
    "            sleep(0.01 * random.rand()) # künstliche Verzögerung\n",
    "            konto['saldo'] = saldo_neu"
   ]
  },
  {
   "cell_type": "markdown",
   "metadata": {
    "slideshow": {
     "slide_type": "fragment"
    }
   },
   "source": [
    "- **Merke:** `with <lock>:` bewirkt, dass der eingerückte Block:\n",
    "    1. nur ausgeführt wird, wenn das Lock-Token **verfügbar** ist und\n",
    "    2. während der Ausführung das Lock-Token **blockiert** (d.h. es ist für andere Threads *nicht verfügbar*.)"
   ]
  },
  {
   "cell_type": "markdown",
   "metadata": {
    "slideshow": {
     "slide_type": "subslide"
    }
   },
   "source": [
    "### Fachbegriff: Synchronisierung\n",
    "\n",
    "Das Schützen eines Code-Abschnitts vor der Ausführung durch mehrere Threads gleichzeitig nennen wir **synchronisieren**.\n",
    "\n",
    "Ein so geschützter Code-Abschnitt heißt **synchronisiert**."
   ]
  },
  {
   "cell_type": "code",
   "execution_count": null,
   "metadata": {
    "scrolled": true,
    "slideshow": {
     "slide_type": "subslide"
    }
   },
   "outputs": [],
   "source": [
    "from threading import Thread\n",
    "\n",
    "konto = {'nummer': 'A123', 'saldo': 1000, 'limit': -1000}\n",
    "t1 = Thread(target=verbuche, args=(500, konto))\n",
    "t2 = Thread(target=verbuche, args=(-500, konto))\n",
    "t1.start()\n",
    "t2.start()\n",
    "t1.join()\n",
    "t2.join()\n",
    "\n",
    "print(konto)    "
   ]
  },
  {
   "cell_type": "markdown",
   "metadata": {
    "slideshow": {
     "slide_type": "fragment"
    }
   },
   "source": [
    "- **Beobachtung:** Das Synchronisieren verhindert das Auftreten der *Race Condition*."
   ]
  },
  {
   "cell_type": "markdown",
   "metadata": {
    "slideshow": {
     "slide_type": "slide"
    }
   },
   "source": [
    "## Kritische Abschnitte\n",
    "\n",
    "Welche Abschnitte sollten wir synchronisieren?"
   ]
  },
  {
   "cell_type": "markdown",
   "metadata": {
    "slideshow": {
     "slide_type": "subslide"
    }
   },
   "source": [
    "### Kritischer Abschnitt *(critical section)*\n",
    "- Einen Code-Abschnitt, der *synchronisiert* werden muss um eine *Race Condition* zu verhindern bezeichnen wir als **kritischen Abschnitt**.\n",
    "- Die *Herausforderung* besteht darin, kritische Abschnitte richtig zu **erkennen**.\n",
    "- Auf den folgenden Folien zeigen wir **typische Beispiele** für kritische Abschnitte."
   ]
  },
  {
   "cell_type": "markdown",
   "metadata": {
    "slideshow": {
     "slide_type": "subslide"
    }
   },
   "source": [
    "### Beispiel 1: *Check-then-act*-Situationen\n",
    "\n",
    "Geteilte Resource: `liste`\n",
    "\n",
    "`if wert in liste:\n",
    "    liste.remove(wert)`"
   ]
  },
  {
   "cell_type": "markdown",
   "metadata": {
    "slideshow": {
     "slide_type": "fragment"
    }
   },
   "source": [
    "<table>\n",
    "    <tr>\n",
    "        <th style=\"text-align:center\">Thread A</th>\n",
    "        <th style=\"text-align:center\">Thread B</th>\n",
    "        <th style=\"text-align:center\">Programmzustand</th>\n",
    "    </tr>\n",
    "    <tr>\n",
    "        <td></td>\n",
    "        <td></td>\n",
    "        <td><em>liste == [1, 2, 4]</em></td>\n",
    "    </tr>\n",
    "    <!--tr>\n",
    "        <td style=\"text-align:center\"><em>(wert == 2)</em></td>\n",
    "        <td style=\"text-align:center\"><em>(wert == 2)</em></td>\n",
    "        <td></td>        \n",
    "    </tr-->\n",
    "    <tr>\n",
    "        <td style=\"text-align:left\"><code>if 2 in liste:</code></td>\n",
    "        <td></td>\n",
    "        <td></td>\n",
    "    </tr>    \n",
    "    <tr>\n",
    "        <td></td>\n",
    "        <td style=\"text-align:left\"><code>if 2 in liste:</code></td>\n",
    "        <td></td>\n",
    "    </tr>    \n",
    "    <tr>\n",
    "        <td style=\"text-align:left\"><code>    liste.remove(2)</code></td>\n",
    "        <td></td>\n",
    "        <td><em>liste == [1, 4]</em></td>\n",
    "    </tr>    \n",
    "    <tr>\n",
    "        <td></td>\n",
    "        <td style=\"text-align:left\"><code>    liste.remove(2)</code></td>\n",
    "        <td><em>ValueError</em></td>\n",
    "    </tr>    \n",
    "</table>"
   ]
  },
  {
   "cell_type": "markdown",
   "metadata": {
    "slideshow": {
     "slide_type": "fragment"
    }
   },
   "source": [
    "**Merke:** *Check-then-act*-Abschnitte (auf geteilten Ressourcen) sind **kritisch**."
   ]
  },
  {
   "cell_type": "markdown",
   "metadata": {
    "slideshow": {
     "slide_type": "subslide"
    }
   },
   "source": [
    "### Beispiel 1: *Check-then-act*-Situation, synchronisiert\n",
    "\n",
    "<code>lock_liste = Lock()</code>\n",
    "<p>...</p>\n",
    "<code>with lock_liste:\n",
    "    if wert in liste:\n",
    "        liste.remove(wert)</code>\n",
    "        \n",
    "**Merke:** *Check-then-act*-Abschnitte müssen stets *als ganzes* synchronisiert werden."
   ]
  },
  {
   "cell_type": "markdown",
   "metadata": {
    "slideshow": {
     "slide_type": "subslide"
    }
   },
   "source": [
    "### Beispiel 2: *Read-modify-write*-Situationen\n",
    "\n",
    "Geteilte Ressource: `zaehler`\n",
    "\n",
    "<code>global zaehler\n",
    "\n",
    "alter_wert = zaehler\n",
    "neuer_wert = alter_wert + 1\n",
    "zaehler = neuer_wert</code>"
   ]
  },
  {
   "cell_type": "markdown",
   "metadata": {
    "slideshow": {
     "slide_type": "subslide"
    }
   },
   "source": [
    "<table>\n",
    "    <tr>\n",
    "        <th style=\"text-align:center\">Thread A</th>\n",
    "        <th style=\"text-align:center\">Thread B</th>\n",
    "        <th style=\"text-align:center\">Programmzustand</th>\n",
    "    </tr>\n",
    "    <!--tr>\n",
    "        <td></td>\n",
    "        <td></td>\n",
    "        <td><em>zaehler == 0</em></td>\n",
    "    </tr-->\n",
    "    <!--tr>\n",
    "        <td style=\"text-align:center\"><em>(wert == 2)</em></td>\n",
    "        <td style=\"text-align:center\"><em>(wert == 2)</em></td>\n",
    "        <td></td>        \n",
    "    </tr-->\n",
    "    <tr>\n",
    "        <td style=\"text-align:left\"><code>alter_wert = zaehler</code> <em>(0)</em></td>\n",
    "        <td></td>\n",
    "        <td><em>zaehler == 0</em></td>\n",
    "    </tr>    \n",
    "    <tr>\n",
    "        <td style=\"text-align:left\"><code>neuer_wert = alter_wert + 1</code> <em>(1)</em></td>\n",
    "        <td></td>\n",
    "        <td></td>\n",
    "    </tr>    \n",
    "    <tr>\n",
    "        <td></td>\n",
    "        <td style=\"text-align:left\"><code>alter_wert = zaehler</code> <em>(0)</em></td>\n",
    "        <td></td>\n",
    "    </tr>    \n",
    "    <tr>\n",
    "        <td></td>\n",
    "        <td style=\"text-align:left\"><code>neuer_wert = alter_wert + 1</code> <em>(1)</em></td>\n",
    "        <td></td>\n",
    "    </tr>  \n",
    "    <tr>\n",
    "        <td></td>\n",
    "        <td style=\"text-align:left\"><code>zaehler = neuer_wert</code></td>\n",
    "        <td><em>zaehler == 1</em></td>\n",
    "    </tr>  \n",
    "    <tr>\n",
    "        <td style=\"text-align:left\"><code>zaehler = neuer_wert</code></td>\n",
    "        <td></td>\n",
    "        <td><em>zaehler == 1</em></td>\n",
    "    </tr>  \n",
    "</table>"
   ]
  },
  {
   "cell_type": "markdown",
   "metadata": {
    "slideshow": {
     "slide_type": "fragment"
    }
   },
   "source": [
    "**Merke:** *Read-modify-write*-Abschnitte (auf geteilten Resourcen) sind **kritisch**."
   ]
  },
  {
   "cell_type": "markdown",
   "metadata": {
    "slideshow": {
     "slide_type": "subslide"
    }
   },
   "source": [
    "### Beispiel 2: *Read-modify-write*-Situation, synchronisiert\n",
    "\n",
    "<code>zaehler_lock = Lock()</code>\n",
    "<p>...</p>\n",
    "<code>global zaehler\n",
    "with zaehler_lock:\n",
    "    alter_wert = zaehler\n",
    "    neuer_wert = alter_wert + 1\n",
    "    zaehler = neuer_wert</code>\n",
    "    \n",
    "**Merke:** Auch *Read-modify-write*-Abschnitte müssen stets *als ganzes* synchronisiert werden.    "
   ]
  },
  {
   "cell_type": "markdown",
   "metadata": {
    "slideshow": {
     "slide_type": "subslide"
    }
   },
   "source": [
    "### Beispiel 3: Modifizierende Zuweisungen\n",
    "\n",
    "Geteilte Ressource: `zaehler`\n",
    "\n",
    "`global zaehler\n",
    "zaehler += 1`\n",
    "\n",
    "\n",
    "\n",
    "- **Frage:** Könnte die Anweisung `zaehler += 1` ein kritischer Abschnitt sein?"
   ]
  },
  {
   "cell_type": "markdown",
   "metadata": {
    "slideshow": {
     "slide_type": "fragment"
    }
   },
   "source": [
    "- **Antwort:** *Ja*.\n",
    "- **Begründung:** Intern wird `zaehler += 1` wie das *Read-modify-write*-Beispiel auf der vorigen Folie ausgeführt."
   ]
  },
  {
   "cell_type": "markdown",
   "metadata": {
    "slideshow": {
     "slide_type": "subslide"
    }
   },
   "source": [
    "### Beispiel 3: Modifizierende Zuweisung, synchronisiert\n",
    "\n",
    "<code>zaehler_lock = Lock()</code>\n",
    "<p>...</p>\n",
    "<code>global zaehler\n",
    "with zaehler_lock:\n",
    "    zaehler += 1</code>"
   ]
  },
  {
   "cell_type": "markdown",
   "metadata": {
    "slideshow": {
     "slide_type": "subslide"
    }
   },
   "source": [
    "### Beispiel 4: Einfache Zuweisung\n",
    "\n",
    "Geteilte Resource: `budget` \n",
    "\n",
    "`global budget\n",
    "budget = 3`\n",
    "\n",
    "**Frage:** Kann eine einfache Zuweisung kritisch sein?"
   ]
  },
  {
   "cell_type": "markdown",
   "metadata": {
    "slideshow": {
     "slide_type": "subslide"
    }
   },
   "source": [
    "### Einfache Zuweisung + *Check-then-act*\n",
    "\n",
    "Geteilte Ressource: `budget`\n",
    "\n",
    "<table>\n",
    "    <tr>\n",
    "        <th style=\"text-align:center\">Thread A</th>\n",
    "        <th style=\"text-align:center\">Thread B</th>\n",
    "    </tr>\n",
    "    <tr>\n",
    "        <td style=\"text-align:left;vertical-align:top\"><code>budget = 3</code></td>\n",
    "        <td style=\"text-align:left;vertical-align:top\"><code>if budget >= 5:\n",
    "    budget -= 5</code></td>\n",
    "    </tr>\n",
    "</table>"
   ]
  },
  {
   "cell_type": "markdown",
   "metadata": {
    "slideshow": {
     "slide_type": "fragment"
    }
   },
   "source": [
    "        \n",
    "<table>\n",
    "    <tr>\n",
    "        <th style=\"text-align:center\">Thread A</th>\n",
    "        <th style=\"text-align:center\">Thread B</th>\n",
    "        <th style=\"text-align:center\">Programmzustand</th>\n",
    "    </tr>\n",
    "    <tr>\n",
    "        <td></td>\n",
    "        <td></td>\n",
    "        <td><em>budget == 12</em></td>\n",
    "    </tr>\n",
    "    <!--tr>\n",
    "        <td style=\"text-align:center\"><em>(wert == 2)</em></td>\n",
    "        <td style=\"text-align:center\"><em>(wert == 2)</em></td>\n",
    "        <td></td>        \n",
    "    </tr-->\n",
    "    <tr>\n",
    "        <td></td>\n",
    "        <td style=\"text-align:left\"><code>if budget > 5:</code> <em>(True)</em></td>\n",
    "        <td></td>\n",
    "    </tr>    \n",
    "    <tr>\n",
    "        <td style=\"text-align:left\"><code>budget = 3</code></td>\n",
    "        <td></td>\n",
    "        <td><em>budget == 3</em></td>\n",
    "    </tr>    \n",
    "    <tr>\n",
    "        <td></td>\n",
    "        <td style=\"text-align:left\"><code>budget -= 5</code></td>\n",
    "        <td><em>budget == -2</em></td>\n",
    "    </tr>    \n",
    "</table>"
   ]
  },
  {
   "cell_type": "markdown",
   "metadata": {
    "slideshow": {
     "slide_type": "fragment"
    }
   },
   "source": [
    "- **Merke:** Auch eine **einfache Zuweisung** kann (im Zusammenspiel mit anderen Codeabschnitten) eine *Race Condition* auslösen -- ist also ein **kritischer Abschnitt**."
   ]
  },
  {
   "cell_type": "markdown",
   "metadata": {
    "slideshow": {
     "slide_type": "subslide"
    }
   },
   "source": [
    "### Einfache Zuweisung + *Check-then-act*, synchronisiert\n",
    "\n",
    "<code>bugdet_lock = Lock()</code>\n",
    "<p>...</p>\n",
    "<code>with budget_lock:\n",
    "    budget = 3</code>\n",
    "<p>...</p>\n",
    "<code>with budget_lock:\n",
    "    if budget >= 5:\n",
    "        budget -= 5</code>    "
   ]
  },
  {
   "cell_type": "markdown",
   "metadata": {
    "slideshow": {
     "slide_type": "subslide"
    }
   },
   "source": [
    "### Beispiel 5: Leseoperationen\n",
    "\n",
    "Geteilte Resource: `anschrift` *(Dictionary)*\n",
    "\n",
    "<code>\n",
    "    print(anschrift['straße'])\n",
    "    print(anschrift['nummer'])</code>\n",
    "\n",
    "**Frage:** Kann eine einfache Lese-Operation (wie `print(anschrift['straße'])`) kritisch sein?"
   ]
  },
  {
   "cell_type": "markdown",
   "metadata": {
    "slideshow": {
     "slide_type": "subslide"
    }
   },
   "source": [
    "### Beispiel: Zusammengehörende Lese- und Schreiboperationen\n"
   ]
  },
  {
   "cell_type": "markdown",
   "metadata": {
    "slideshow": {
     "slide_type": "fragment"
    }
   },
   "source": [
    "<table>\n",
    "    <tr>\n",
    "        <th style=\"text-align:center\">Thread A</th>\n",
    "        <th style=\"text-align:center\">Thread B</th>\n",
    "        <th style=\"text-align:center\">Programmzustand</th>\n",
    "    </tr>\n",
    "    <tr>\n",
    "        <td></td>\n",
    "        <td></td>\n",
    "        <td style=\"text-align:left;vertical-align:top\"><em>anschrift == {'straße': 'Prittwitzstr.', 'nummer': 10}</em>\n",
    "    </tr>    \n",
    "    <tr>\n",
    "        <td style=\"text-align:left;vertical-align:top\"><code>print(anschrift['straße'])</code> <em>(Prittwitzstr)</em></td>\n",
    "        <td></td>\n",
    "        <td></td>\n",
    "    </tr>\n",
    "    <tr>\n",
    "        <td></td>\n",
    "        <td style=\"text-align:left;vertical-align:top\"><code>anschrift['straße'] = 'Albert-Einstein-Allee'</code></td>\n",
    "        <td style=\"text-align:left;vertical-align:top\"><em>anschrift == {'straße': 'Albert-Einstein-Allee', 'nummer': 10}</em>\n",
    "    </tr>\n",
    "    <tr>\n",
    "        <td></td>\n",
    "        <td style=\"text-align:left;vertical-align:top\"><code>anschrift['nummer'] = 55</code></td>\n",
    "        <td style=\"text-align:left;vertical-align:top\"><em>anschrift == {'straße': 'Albert-Einstein-Allee', 'nummer': 55}</em>\n",
    "    </tr>\n",
    "    <tr>\n",
    "        <td style=\"text-align:left;vertical-align:top\"><code>print(anschrift['nummer'])</code> <em>(55)</em></td>\n",
    "        <td></td>\n",
    "        <td></td>\n",
    "    </tr>    \n",
    "</table>"
   ]
  },
  {
   "cell_type": "markdown",
   "metadata": {
    "slideshow": {
     "slide_type": "fragment"
    }
   },
   "source": [
    "- **Ausgabe:** `Prittwitzstraße 55`\n",
    "- **Merke:** Unsynchronisierte Leseoperationen können unerwartet einen **ungültigen Zwischenzustand** lesen."
   ]
  },
  {
   "cell_type": "markdown",
   "metadata": {
    "slideshow": {
     "slide_type": "subslide"
    }
   },
   "source": [
    "### Zusammengehörende Lese- und Schreiboperationen, synchronisiert\n",
    "\n",
    "<code>anschrift_lock = Lock()</code>\n",
    "<p>...</p>\n",
    "<code>with anschrift_lock:\n",
    "    print(anschrift['straße'])\n",
    "    print(anschrift['nummer'])</code>\n",
    "<p>...</p>\n",
    "<code>with anschrift_lock:\n",
    "    anschrift['straße'] = 'Albert-Einstein-Allee'\n",
    "    anschrift['nummer'] = 55</code>    "
   ]
  },
  {
   "cell_type": "markdown",
   "metadata": {
    "slideshow": {
     "slide_type": "subslide"
    }
   },
   "source": [
    "### Kann man zu viel synchronisieren?\n",
    "\n",
    "**Frage:** Sollte man im Zweifel so viel wie möglich synchronisieren?"
   ]
  },
  {
   "cell_type": "markdown",
   "metadata": {
    "slideshow": {
     "slide_type": "fragment"
    }
   },
   "source": [
    "**Antwort:** Nein, auf keinen Fall.\n",
    "\n",
    "- Wenn Sie zu viel Code synchronisieren, **blockieren** sich Threads gegenseitig.\n",
    "- Der wesentlich **Vorteil** der Nebenläufigkeit -- Vorgänge, die einander nicht blockieren -- geht **verloren**.\n",
    "    - Fachbegriff: Threads werden **\"ausgehungert\"**.\n",
    "\n",
    "**Merke:** Synchronisieren Sie *so viel wie nötig* (kritische Abschnitte) und *so wenig wie möglich*."
   ]
  },
  {
   "cell_type": "markdown",
   "metadata": {
    "slideshow": {
     "slide_type": "subslide"
    }
   },
   "source": [
    "### Genügt ein Lock-Token?\n",
    "\n",
    "**Frage:** Kann ich alle kritischen Bereiche mit einem einzigen Lock-Token synchronisieren?"
   ]
  },
  {
   "cell_type": "markdown",
   "metadata": {
    "slideshow": {
     "slide_type": "fragment"
    }
   },
   "source": [
    "**Antwort:** Nein, damit würden Threads einander unnötig blockieren.\n",
    "\n",
    "- *Race Conditions* treten nur auf, wenn Threads **gleichzeitig** auf die **gleiche Ressource** zugreifen.\n",
    "- Threads die auf unterschiedliche Resourcen zugreifen, sollten einander **nicht blockieren**. (Gefahr des \"*Aushungerns*\".)\n",
    "\n",
    "**Merke:** Erstellen Sie für jede geteilte Resource ein **eigenes** *Lock-Token*."
   ]
  },
  {
   "cell_type": "code",
   "execution_count": null,
   "metadata": {
    "slideshow": {
     "slide_type": "skip"
    }
   },
   "outputs": [],
   "source": [
    "from threading import Lock\n",
    "\n",
    "n = 0\n",
    "m = 0\n",
    "lock_n = Lock()\n",
    "lock_m = Lock()\n",
    "\n",
    "def inc_n():\n",
    "    global n\n",
    "    with lock_n:\n",
    "        n += 1\n",
    "        \n",
    "def inc_m():\n",
    "    global m\n",
    "    with lock_m:\n",
    "        m += 1        "
   ]
  },
  {
   "cell_type": "markdown",
   "metadata": {
    "slideshow": {
     "slide_type": "subslide"
    }
   },
   "source": [
    "### Zusammenfassung: Kritische Abschnitte\n",
    "\n",
    "- Ein Codeabschnitt, der (ohne Synchronisation) zu einer *Race Condition* führen kann, heißt **kritischer Abschnitt**.\n",
    "- Ein *kritischer Abschnitt* besteht immer wenn auf eine **geteilte Ressource** zugegriffen wird.\n",
    "- **Kritische Abschnitte** sind immer *so klein wie möglich* zu wählen, um das Blockieren und Aushungern von Threads zu vermeiden.\n",
    "- In manchen Situationen **muss** ein kritischer Abschnitt aber **mehrere Zeilen** umfassen\n",
    "    - z.B. *check-then-act*, *read-modify-write*, Zugriff auf *zusammengehörende Werte*.\n",
    "- Um unnötiges Blockieren zu vermeiden, sollte für jede geteilte Ressource ein **eigenes Lock-Token** verwendet werden."
   ]
  },
  {
   "cell_type": "markdown",
   "metadata": {
    "slideshow": {
     "slide_type": "skip"
    }
   },
   "source": [
    "### Zeitmessung"
   ]
  },
  {
   "cell_type": "code",
   "execution_count": null,
   "metadata": {
    "scrolled": true,
    "slideshow": {
     "slide_type": "skip"
    }
   },
   "outputs": [],
   "source": [
    "konto = {'nummer': 'A123', 'saldo': 1000, 'limit': -1000}\n",
    "tic = time.time()\n",
    "t1 = Thread(target=verbuche, args=(500, konto))\n",
    "t2 = Thread(target=verbuche, args=(-500, konto))\n",
    "t1.start()\n",
    "t2.start()\n",
    "t1.join()\n",
    "t2.join()\n",
    "toc = time.time()\n",
    "print('Endsaldo: %s' % konto['saldo'])    \n",
    "print(\"Zeit: %.3f Sekunden.\" % (toc-tic))"
   ]
  },
  {
   "cell_type": "code",
   "execution_count": null,
   "metadata": {
    "scrolled": true,
    "slideshow": {
     "slide_type": "skip"
    }
   },
   "outputs": [],
   "source": [
    "kontoA = {'nummer': 'A123', 'saldo': 1000, 'limit': -1000}\n",
    "kontoB = {'nummer': 'B042', 'saldo': 4711, 'limit': 0}\n",
    "tic = time.time()\n",
    "t1 = Thread(target=verbuche, args=(500, kontoA))\n",
    "t2 = Thread(target=verbuche, args=(-500, kontoB))\n",
    "t1.start()\n",
    "t2.start()\n",
    "t1.join()\n",
    "t2.join()\n",
    "toc = time.time()\n",
    "print('Endsaldo: %s' % konto['saldo'])    \n",
    "print(\"Zeit: %.3f Sekunden.\" % (toc-tic))"
   ]
  },
  {
   "cell_type": "markdown",
   "metadata": {
    "slideshow": {
     "slide_type": "skip"
    }
   },
   "source": [
    "- **Beobachtung:** Auch Buchungen auf **unterschiedliche** Konten werden jetzt **nacheinander** ausgeführt.\n",
    "- **Erklärung:** Wir haben nur **ein** globales Lock-Token."
   ]
  },
  {
   "cell_type": "markdown",
   "metadata": {
    "slideshow": {
     "slide_type": "skip"
    }
   },
   "source": [
    "- **Problem:** Jetzt blockiert das Lock-Token Buchungen auf **allen** Konten, nicht nur auf eines.\n",
    "- **Frage:** Was fehlt noch?"
   ]
  },
  {
   "cell_type": "markdown",
   "metadata": {
    "slideshow": {
     "slide_type": "skip"
    }
   },
   "source": [
    "- **Antwort:** Wir brauchen **für jedes Konto** ein Lock-Token!"
   ]
  },
  {
   "cell_type": "code",
   "execution_count": null,
   "metadata": {
    "slideshow": {
     "slide_type": "skip"
    }
   },
   "outputs": [],
   "source": [
    "from pprint import pprint\n",
    "import time\n",
    "import random\n",
    "\n",
    "konto = {'nummer': 'A123',\n",
    "         'saldo': 1000,\n",
    "         'limit': -1000,\n",
    "         'lock': Lock()}\n",
    "\n",
    "print(konto)"
   ]
  },
  {
   "cell_type": "markdown",
   "metadata": {
    "slideshow": {
     "slide_type": "skip"
    }
   },
   "source": [
    "**Neue Datenstruktur** für Bankkonten: ein *Dictionary*\n",
    "- `'nummer'` = Kontonummer\n",
    "- `'saldo'` = der aktuelle Kontostand\n",
    "- `'limit'` = das Kreditlimit (nach jeder Buchung muss der Kontostand $\\geq$ dem `limit` sein)\n",
    "- `'lock'` = das Lock-Token für das Konto\n"
   ]
  },
  {
   "cell_type": "code",
   "execution_count": null,
   "metadata": {
    "slideshow": {
     "slide_type": "skip"
    }
   },
   "outputs": [],
   "source": [
    "def verbuche(betrag, konto):\n",
    "    konto_lock = konto['lock'] # Hole Lock-Token aus Dictionary\n",
    "    with konto_lock: # Blockiere mit globalem Lock-Token\n",
    "        saldo_neu = konto['saldo'] + betrag\n",
    "        if saldo_neu >= konto['limit']:\n",
    "            time.sleep(0.01 * random.rand()) # künstliche Verzögerung\n",
    "            konto['saldo'] = saldo_neu"
   ]
  },
  {
   "cell_type": "code",
   "execution_count": null,
   "metadata": {
    "scrolled": true,
    "slideshow": {
     "slide_type": "skip"
    }
   },
   "outputs": [],
   "source": [
    "konto = {'nummer': 'A123', 'saldo': 1000, 'limit': -1000, 'lock': Lock()}\n",
    "tic = time.time()\n",
    "t1 = Thread(target=verbuche, args=(500, konto))\n",
    "t2 = Thread(target=verbuche, args=(-500, konto))\n",
    "t1.start()\n",
    "t2.start()\n",
    "t1.join()\n",
    "t2.join()\n",
    "toc = time.time()\n",
    "print('Endsaldo: %s' % konto['saldo'])    \n",
    "print(\"Zeit: %.3f Sekunden.\" % (toc-tic))"
   ]
  },
  {
   "cell_type": "code",
   "execution_count": null,
   "metadata": {
    "scrolled": false,
    "slideshow": {
     "slide_type": "skip"
    }
   },
   "outputs": [],
   "source": [
    "kontoA = {'nummer': 'A123', 'saldo': 1000, 'limit': -1000, 'lock': Lock()}\n",
    "kontoB = {'nummer': 'B042', 'saldo': 4711, 'limit': 0, 'lock': Lock()}\n",
    "tic = time.time()\n",
    "t1 = Thread(target=verbuche, args=(500, kontoA))\n",
    "t2 = Thread(target=verbuche, args=(-500, kontoB))\n",
    "t1.start()\n",
    "t2.start()\n",
    "t1.join()\n",
    "t2.join()\n",
    "toc = time.time()\n",
    "print('Endsaldo: %s' % konto['saldo'])    \n",
    "print(\"Zeit: %.3f Sekunden.\" % (toc-tic))"
   ]
  },
  {
   "cell_type": "markdown",
   "metadata": {
    "slideshow": {
     "slide_type": "skip"
    }
   },
   "source": [
    "**Beobachtung:** Jetzt werden Buchungen auf **verschiedenen** Konten **nebenläufig** ausgeführt. Nur Buchungen auf das **gleiche** Konto werden **nacheinander** ausgeführt."
   ]
  },
  {
   "cell_type": "markdown",
   "metadata": {
    "slideshow": {
     "slide_type": "slide"
    }
   },
   "source": [
    "## Deadlocks\n",
    "\n",
    "Neue Fehlerquellen durch Lock Tokens"
   ]
  },
  {
   "cell_type": "markdown",
   "metadata": {
    "slideshow": {
     "slide_type": "subslide"
    }
   },
   "source": [
    "### Hinweis\n",
    "\n",
    "Das folgende Beispiel ist unrealistisch stark vereinfacht. Es steht aber stellvertretend für viele reale, aber weniger übersichtliche Probleme"
   ]
  },
  {
   "cell_type": "code",
   "execution_count": null,
   "metadata": {
    "slideshow": {
     "slide_type": "subslide"
    }
   },
   "outputs": [],
   "source": [
    "def verleihe():\n",
    "    global bestand\n",
    "    global verliehen\n",
    "    \n",
    "    bestand_neu = bestand - 1\n",
    "    verliehen_neu = verliehen + 1\n",
    "    if bestand_neu >= 1:\n",
    "        bestand = bestand_neu\n",
    "        verliehen = verliehen_neu"
   ]
  },
  {
   "cell_type": "code",
   "execution_count": null,
   "metadata": {
    "slideshow": {
     "slide_type": "subslide"
    }
   },
   "outputs": [],
   "source": [
    "def nimmzurück():\n",
    "    global bestand\n",
    "    global verliehen\n",
    "    \n",
    "    bestand_neu = bestand + 1\n",
    "    verliehen_neu = verliehen - 1\n",
    "    if verliehen_neu >= 0:\n",
    "        bestand = bestand_neu   \n",
    "        verliehen = verliehen_neu        "
   ]
  },
  {
   "cell_type": "code",
   "execution_count": null,
   "metadata": {
    "slideshow": {
     "slide_type": "subslide"
    }
   },
   "outputs": [],
   "source": [
    "bestand = 2\n",
    "verliehen = 8\n",
    "\n",
    "verleihe()\n",
    "verleihe()\n",
    "nimmzurück()\n",
    "\n",
    "print('%s/%s verliehen' % (verliehen, verliehen + bestand))    "
   ]
  },
  {
   "cell_type": "markdown",
   "metadata": {
    "slideshow": {
     "slide_type": "subslide"
    }
   },
   "source": [
    "### Bibliothekssystem mit Mehrbenutzerbetrieb\n",
    "\n",
    "**Anforderung:** Wir möchten nun die Nutzung des Bibliothekssystems durch **mehrere Benutzer** simulieren."
   ]
  },
  {
   "cell_type": "markdown",
   "metadata": {
    "slideshow": {
     "slide_type": "fragment"
    }
   },
   "source": [
    "**Ansatz:** Wir simulieren den Mehrbenutzerbetrieb durch zwei **Threads**:\n",
    "1. ein Thread für den Ausleihe-Schalter und\n",
    "2. ein Thread für den Rücknahme-Schalter.\n",
    "    \n",
    "Außerdem simulieren wir den Dauerbetrieb durch jeweils eine **Schleife**.   "
   ]
  },
  {
   "cell_type": "markdown",
   "metadata": {
    "slideshow": {
     "slide_type": "subslide"
    }
   },
   "source": [
    "**Frage:** Was müssen wir dabei beachten?"
   ]
  },
  {
   "cell_type": "markdown",
   "metadata": {
    "slideshow": {
     "slide_type": "fragment"
    }
   },
   "source": [
    "**Antwort:** Beide Funktionen enthalten **kritische Bereiche**. (Die kritischen Werte sind die Variablen `verfügbar` und `verliehen`.)\n",
    "\n",
    "**Maßnahme:** Wir müssen mit *Lock Tokens* arbeiten, um Race Conditions zu verhindern."
   ]
  },
  {
   "cell_type": "code",
   "execution_count": null,
   "metadata": {
    "slideshow": {
     "slide_type": "subslide"
    }
   },
   "outputs": [],
   "source": [
    "from time import sleep\n",
    "\n",
    "def verleihe():\n",
    "    global bestand\n",
    "    global verliehen\n",
    "    \n",
    "    with(lock_bestand):\n",
    "        with(lock_verliehen):    \n",
    "            bestand_neu = bestand - 1\n",
    "            verliehen_neu = verliehen + 1\n",
    "            if bestand_neu >= 1:\n",
    "                bestand = bestand_neu\n",
    "                verliehen = verliehen_neu                \n",
    "\n",
    "def verleihe_loop():\n",
    "    for _ in range(1000):\n",
    "        verleihe()\n",
    "        print('%s/%s verliehen' % (verliehen, verliehen + bestand))"
   ]
  },
  {
   "cell_type": "code",
   "execution_count": null,
   "metadata": {
    "slideshow": {
     "slide_type": "subslide"
    }
   },
   "outputs": [],
   "source": [
    "def nimmzurück():\n",
    "    global bestand\n",
    "    global verliehen\n",
    "\n",
    "    with(lock_verliehen):\n",
    "        sleep(10 ** -6) # erhöhe die Wahrscheinlichkeit des Auftretens        \n",
    "        with(lock_bestand):\n",
    "            bestand_neu = bestand + 1\n",
    "            verliehen_neu = verliehen - 1     \n",
    "            if verliehen_neu >= 0:\n",
    "                bestand = bestand_neu   \n",
    "                verliehen = verliehen_neu\n",
    "                \n",
    "def nimmzurück_loop():\n",
    "    for _ in range(1000):\n",
    "        nimmzurück()  \n",
    "        print('%s/%s verliehen' % (verliehen, verliehen + bestand)) "
   ]
  },
  {
   "cell_type": "code",
   "execution_count": null,
   "metadata": {
    "slideshow": {
     "slide_type": "subslide"
    }
   },
   "outputs": [],
   "source": [
    "from threading import Thread, Lock\n",
    "\n",
    "bestand = 10\n",
    "verliehen = 0\n",
    "lock_bestand = Lock()\n",
    "lock_verliehen = Lock()\n",
    "\n",
    "tV = Thread(target=verleihe_loop)\n",
    "tN = Thread(target=nimmzurück_loop)\n",
    "\n",
    "print(\"Starte Threads....\")\n",
    "tV.start()\n",
    "tN.start()"
   ]
  },
  {
   "cell_type": "markdown",
   "metadata": {
    "slideshow": {
     "slide_type": "fragment"
    }
   },
   "source": [
    "- **Beobachtung:** Das Programm geht nicht mehr weiter (=> **Deadlock**).\n",
    "- **Frage:** Warum?"
   ]
  },
  {
   "cell_type": "markdown",
   "metadata": {
    "slideshow": {
     "slide_type": "subslide"
    }
   },
   "source": [
    "### Günstiger Fall:\n",
    "| verleihe_thread | zurück_thread |\n",
    "| --- | --- |\n",
    "| Warte auf `lock_bestand` |  |\n",
    "| Sperre `lock_bestand` |  |\n",
    "| Warte auf `lock_verliehen` |  |\n",
    "| Sperre `lock_verliehen` |  |\n",
    "| &nbsp; | Warte auf `lock_verliehen` |\n",
    "| Modifiziere `bestand` und `verliehen` | |\n",
    "| Gib `lock_verliehen` auf |  |\n",
    "| | Sperre `lock_verliehen` |\n",
    "| | Warte auf `lock_bestand` |\n",
    "| Gib `lock_bestand` auf |  |\n",
    "| | Sperre `lock_bestand` | \n",
    "| ... | ... |"
   ]
  },
  {
   "cell_type": "markdown",
   "metadata": {
    "slideshow": {
     "slide_type": "subslide"
    }
   },
   "source": [
    "### Ungünstiger Fall:\n",
    "| verleihe_thread | zurück_thread |\n",
    "| --- | --- |\n",
    "| Warte auf `lock_bestand` |  |\n",
    "| Sperre `lock_bestand` |  |\n",
    "| &nbsp; | Warte auf `lock_verliehen` |  \n",
    "| &nbsp; | Sperre `lock_verliehen` |  \n",
    "| &nbsp; | Warte auf `lock_bestand` |  \n",
    "| Warte auf `lock_verliehen` |  |\n",
    "\n",
    "**=> Deadlock**"
   ]
  },
  {
   "cell_type": "markdown",
   "metadata": {
    "slideshow": {
     "slide_type": "subslide"
    }
   },
   "source": [
    "### Wann treten Deadlocks auf?\n",
    "- Wenn **mehrere Threads** ...\n",
    "- ... **mehrere Locks** benutzen ...\n",
    "- ... und diese in **unterschiedlicher Reihenfolge** anfordern."
   ]
  },
  {
   "cell_type": "markdown",
   "metadata": {
    "slideshow": {
     "slide_type": "fragment"
    }
   },
   "source": [
    "### Lösung:\n",
    "- In Funktion `rechneA` steht: `with lock1: ... with lock2:` ...\n",
    "- ... also schreiben wir in `rechneB` ebenfalls: `with lock1: ... with lock2:`\n",
    "- (in dieser **Reihenfolge**)."
   ]
  },
  {
   "cell_type": "code",
   "execution_count": null,
   "metadata": {
    "slideshow": {
     "slide_type": "subslide"
    }
   },
   "outputs": [],
   "source": [
    "from time import sleep\n",
    "\n",
    "def nimmzurück():\n",
    "    global bestand\n",
    "    global verliehen\n",
    "\n",
    "    with(lock_bestand):          # Gleiche Reihenfolge ...\n",
    "        sleep(10 ** -6)\n",
    "        with(lock_verliehen):      # ... wie in verleihe()\n",
    "            bestand_neu = bestand + 1\n",
    "            verliehen_neu = verliehen - 1     \n",
    "            if verliehen_neu >= 0:\n",
    "                bestand = bestand_neu   \n",
    "                verliehen = verliehen_neu\n",
    "                print('%s/%s verliehen' % (verliehen, verliehen + bestand)) "
   ]
  },
  {
   "cell_type": "code",
   "execution_count": null,
   "metadata": {
    "scrolled": true,
    "slideshow": {
     "slide_type": "subslide"
    }
   },
   "outputs": [],
   "source": [
    "bestand = 10\n",
    "verliehen = 0\n",
    "lock_verliehen = Lock()\n",
    "lock_bestand = Lock()\n",
    "\n",
    "tV = Thread(target=verleihe_loop)\n",
    "tN = Thread(target=nimmzurück_loop)\n",
    "\n",
    "print(\"Starte Threads....\")\n",
    "tV.start()\n",
    "tN.start()"
   ]
  },
  {
   "cell_type": "markdown",
   "metadata": {
    "slideshow": {
     "slide_type": "fragment"
    }
   },
   "source": [
    "... läuft **endlos**."
   ]
  },
  {
   "cell_type": "markdown",
   "metadata": {
    "slideshow": {
     "slide_type": "subslide"
    }
   },
   "source": [
    "### Deadlocks verhindern\n",
    "\n",
    "**Merke:** Wenn wir mehrere Lock-Tokens verwenden, müssen wir darauf achten, dass die Tokens an **allen Stellen** immer in der **gleichen Reihenfolge** reserviert werden!"
   ]
  }
 ],
 "metadata": {
  "celltoolbar": "Slideshow",
  "kernelspec": {
   "display_name": "Python 3 (ipykernel)",
   "language": "python",
   "name": "python3"
  },
  "language_info": {
   "codemirror_mode": {
    "name": "ipython",
    "version": 3
   },
   "file_extension": ".py",
   "mimetype": "text/x-python",
   "name": "python",
   "nbconvert_exporter": "python",
   "pygments_lexer": "ipython3",
   "version": "3.9.13"
  },
  "livereveal": {
   "auto_select": "code",
   "overlay": "<svg style=\"position:fixed; bottom: -70%; left:-30%; opacity: .08\" width=\"120%\" height=\"200%\" viewBox=\"-6.1668534 -6.1668534 70.193762 70.215489\"><path d=\"m 26.923229,-3.1568302 c -4.093537,0.2861795 -6.078737,3.20309863 -5.792511,7.2943622 0.306815,4.3874932 2.581048,9.326136 6.043269,12.057004 1.183834,0.929328 2.672544,1.706281 4.112433,2.205855 L 31.186117,17.32253 c -2.094051,-0.768221 -5.81348,-6.33189 -6.168649,-12.8090001 -0.282813,-4.04228478 1.21972,-6.0725619 3.635992,-6.2415673 0.355427,-0.024802 0.713589,0.00913 1.028108,0.0752 L 29.581265,-2.7808323 C 28.548066,-3.0712567 27.63118,-3.2063135 26.923229,-3.1568302 z m 9.704338,1.3034602 c -2.529251,0.1770443 -4.440244,1.99700163 -5.416375,4.9130408 -1.395957,4.1695837 -1.174306,9.6143822 0.977957,13.4607302 0.737613,1.31106 1.795113,2.572342 2.933869,3.584514 l 0.351062,-1.027727 c -1.639879,-1.510422 -2.953435,-8.069497 -0.802426,-14.1876602 1.28611,-3.8415472 3.446293,-5.15478376 5.74236,-4.38664351 0.337885,0.11303519 0.637578,0.29494438 0.902729,0.476264 l 0.351061,-1.10292797 C 40.824748,-0.78723489 40.033418,-1.2272579 39.36083,-1.4523056 38.388296,-1.7776402 37.470651,-1.912385 36.627567,-1.85337 z m -19.233144,1.22825979 c -1.065648,0.12685186 -1.972784,0.38543574 -2.607884,0.70186354 -3.672078,1.83011157 -4.388267,5.25360127 -2.557734,8.92368657 1.962991,3.9360931 5.962066,7.6499291 10.205855,8.8484871 1.449357,0.405582 3.117449,0.565549 4.639024,0.476265 L 26.572168,17.347597 C 24.343646,17.438856 18.772788,13.720505 15.965102,7.8724457 14.156409,4.2462237 14.775651,1.7836218 16.943058,0.7034165 17.262001,0.54451718 17.580153,0.46187625 17.895939,0.40261818 L 17.394423,-0.62511021 z M 46.030995,3.1599369 c -1.797882,0.037411 -3.551611,0.991723 -5.065313,2.732252 -2.885969,3.3183856 -4.779033,8.4319771 -4.262888,12.8090011 0.179677,1.493629 0.664377,3.091011 1.329018,4.461843 l 0.702123,-0.827195 c -0.936995,-2.022794 0.3846,-8.580847 4.714251,-13.4105977 2.658822,-3.0573014 5.143693,-3.4429682 6.971075,-1.8549237 0.268811,0.2336321 0.501543,0.5080991 0.677047,0.7770626 L 51.823505,6.9700505 C 51.298639,6.0346117 50.728928,5.3046808 50.193579,4.8393947 48.839104,3.6622894 47.429347,3.1308381 46.030995,3.1599369 z M 6.9378097,6.0425888 c -0.935981,0.5248586 -1.665916,1.094108 -2.131443,1.6293247 -2.691786,3.0954225 -2.017813,6.5590785 1.078259,9.2495525 3.32031,2.885337 8.4340943,4.752403 12.8137393,4.236244 1.494311,-0.179724 3.066966,-0.663942 4.438417,-1.328526 L 22.309281,19.127321 C 20.285179,20.0642 13.726277,18.768376 8.8937227,14.439878 5.8346587,11.781598 5.4492377,9.2734085 7.0381127,7.4463146 7.2719557,7.1774811 7.5464017,6.9700874 7.8154627,6.7945847 L 6.9378097,6.0425888 z M 52.826538,11.281495 c -1.240238,-0.05062 -2.585374,0.291585 -3.961977,0.977595 -3.936855,1.961887 -7.627699,5.960679 -8.826684,10.20208 -0.405684,1.448701 -0.565575,3.091612 -0.476441,4.612243 l 0.977957,-0.476264 c -0.09116,-2.227452 3.629446,-7.797133 9.478655,-10.603145 3.627004,-1.807459 6.066186,-1.21389 7.146604,0.952528 0.158848,0.318755 0.266654,0.661991 0.325986,0.977595 L 58.49367,17.39773 c -0.126888,-1.065136 -0.360506,-1.947242 -0.677047,-2.581853 -1.14401,-2.293918 -2.92302,-3.450014 -4.990085,-3.534382 z m -52.96010626,4.913041 c -0.66375,0.842932 -1.12896504,1.658643 -1.35409304,2.331188 -1.302024,3.889448 0.62351704,6.820207 4.513645,8.121558 4.171949,1.395504 9.6173713,1.174438 13.4657103,-0.977595 1.31187,-0.737666 2.598174,-1.794208 3.610916,-2.932785 l -1.028108,-0.325865 c -1.5111,1.639727 -8.096686,2.927465 -14.2179843,0.777063 -3.843796,-1.285708 -5.13174596,-3.444519 -4.36318996,-5.740237 0.113005,-0.337758 0.269928,-0.637229 0.451364,-0.902396 l -1.07826,-0.350931 z M 54.481541,21.132644 c -0.246184,2.35e-4 -0.496525,0.0072 -0.752274,0.02507 -4.388485,0.306578 -9.329778,2.580848 -12.061463,6.041036 -0.929419,1.183264 -1.706933,2.646612 -2.206671,4.085845 l 1.07826,-0.0752 c 0.768434,-2.092835 6.335368,-5.811443 12.813737,-6.166368 4.043159,-0.282448 6.100009,1.194715 6.268951,3.609582 0.02488,0.355292 -0.03426,0.713389 -0.100303,1.027727 l 1.153487,-0.100266 c 0.290527,-1.032562 0.400563,-1.949623 0.351062,-2.657052 -0.268211,-3.835575 -2.852006,-5.793896 -6.544786,-5.79037 z m -36.084086,5.464505 -1.07826,0.0752 c -0.76843,2.092823 -6.335369,5.811461 -12.8137383,6.166368 -4.04315896,0.282532 -6.075062,-1.219716 -6.243876,-3.634648 -0.02488,-0.355307 0.0092,-0.688322 0.07523,-1.002661 l -1.128411,0.100267 c -0.290518,1.032629 -0.425486,1.949623 -0.376137,2.657052 0.286113,4.091326 3.20504104,6.051187 7.29706,5.765304 4.388354,-0.30663 9.3300463,-2.580848 12.0614643,-6.041036 0.929417,-1.183261 1.706923,-2.646677 2.206671,-4.085845 z m 30.467106,3.75998 c -2.662818,0.04215 -5.332983,0.644405 -7.497667,1.854924 -1.311744,0.737664 -2.598298,1.794385 -3.610916,2.932785 l 1.053184,0.325865 c 1.5111,-1.639663 8.071355,-2.927465 14.192906,-0.777063 3.843532,1.285691 5.156694,3.444519 4.388267,5.740237 -0.113134,0.33796 -0.295125,0.637288 -0.476441,0.902395 l 1.07826,0.350932 c 0.663638,-0.842861 1.128965,-1.65865 1.354093,-2.331188 1.302033,-3.889448 -0.623388,-6.820272 -4.513645,-8.121558 -1.825166,-0.610533 -3.896961,-0.910116 -5.968041,-0.877329 z m -30.567409,0.451198 -0.952881,0.476264 c 0.09128,2.227386 -3.629437,7.797068 -9.4786563,10.603145 -3.626997,1.807456 -6.091255,1.213824 -7.17168096,-0.952528 -0.15896,-0.318755 -0.266646,-0.661991 -0.325985,-0.977596 l -1.003033,0.526398 c 0.126888,1.065136 0.360514,1.947177 0.677047,2.581853 1.83029296,3.670218 5.28112596,4.38621 8.95206296,2.556787 3.9368543,-1.961888 7.6276943,-5.960491 8.8266853,-10.202081 0.405677,-1.44863 0.565699,-3.091531 0.476441,-4.612242 z m 1.529624,3.91038 -0.702123,0.827195 c 0.936861,2.02285 -0.3846,8.580847 -4.714251,13.410597 -2.658823,3.057253 -5.1435673,3.443033 -6.9710763,1.854924 -0.26882,-0.233747 -0.50142,-0.508099 -0.677047,-0.777063 l -0.727198,0.877329 c 0.524867,0.935506 1.094581,1.665354 1.629928,2.130656 3.0959513,2.690458 6.5368733,2.041431 9.2278973,-1.052795 2.885969,-3.318389 4.779033,-8.431912 4.262888,-12.809 -0.179678,-1.493563 -0.664377,-3.091141 -1.329018,-4.461843 z m 21.013526,1.905057 c -0.565252,-0.0078 -1.107579,0.0107 -1.655003,0.0752 -1.494317,0.179801 -3.092161,0.689138 -4.463494,1.353593 l 0.827502,0.701863 c 2.023858,-0.9369 8.583019,0.358832 13.415557,4.687442 3.058951,2.658284 3.444492,5.166551 1.85561,6.993564 -0.233963,0.268917 -0.508287,0.476033 -0.77735,0.65173 l 0.877653,0.751996 c 0.935973,-0.524791 1.665787,-1.094043 2.131443,-1.629324 2.691906,-3.095429 2.017812,-6.559079 -1.07826,-9.249553 -2.905265,-2.524613 -7.176894,-4.282033 -11.133658,-4.33651 z m -18.104732,1.15306 -0.351062,1.027728 c 1.639895,1.510495 2.95343,8.069562 0.802426,14.18766 -1.2861,3.841543 -3.446287,5.154789 -5.74236,4.386646 -0.337876,-0.1131 -0.637583,-0.295007 -0.902729,-0.476264 l -0.351061,1.102927 c 0.843048,0.663394 1.634251,1.103474 2.306974,1.328527 3.890003,1.301407 6.848124,-0.623856 8.149638,-4.511979 1.395955,-4.169636 1.174295,-9.614388 -0.977957,-13.46073 -0.737874,-1.311061 -1.795113,-2.57246 -2.933869,-3.584515 z m 3.836598,1.679458 0.100303,1.102928 c 2.09393,0.768205 5.813486,6.331889 6.168649,12.809 0.282827,4.042356 -1.219844,6.072689 -3.635992,6.24157 -0.355553,0.02487 -0.688389,-0.0091 -1.003032,-0.07516 l 0.07523,1.127995 c 1.033078,0.290483 1.950215,0.425473 2.658036,0.375998 4.09341,-0.28612 6.078737,-3.203231 5.792511,-7.294365 -0.306819,-4.387555 -2.581178,-9.32613 -6.043269,-12.057004 -1.183831,-0.929259 -2.672538,-1.731418 -4.112433,-2.230922 z m 4.212736,0.100266 0.501516,0.977595 c 2.228643,-0.09131 7.799515,3.627286 10.607066,9.475151 1.808695,3.626352 1.214656,6.088759 -0.95288,7.169032 -0.31894,0.158837 -0.662177,0.241473 -0.977957,0.300798 l 0.526592,1.027728 c 1.065659,-0.126904 1.947838,-0.385374 2.582808,-0.701863 3.672209,-1.830114 4.388269,-5.2786 2.557733,-8.948756 -1.962988,-3.93603 -5.962065,-7.624819 -10.205854,-8.82342 -1.449477,-0.405541 -3.117444,-0.565549 -4.639024,-0.476265 z\" id=\"hsu_bg_logo\" style=\"fill:#0055a3;fill-opacity:1;fill-rule:nonzero;stroke:none;display:inline\" /></svg><div style=\"position: absolute; bottom: 10px; width: 100%; font-size: medium; opacity: .8\"><center><span style=\"font-weight: bold; color: #4444cc\">Grundlagen der Software-Entwicklung</span> &nbsp;|&nbsp; Prof. Dr. Hariolf Betz &nbsp;|&nbsp; Hochschule Ulm &nbsp;|&nbsp; hbetz@hs-ulm.de </center></div>",
   "theme": "serif",
   "transition": "convex"
  }
 },
 "nbformat": 4,
 "nbformat_minor": 2
}
