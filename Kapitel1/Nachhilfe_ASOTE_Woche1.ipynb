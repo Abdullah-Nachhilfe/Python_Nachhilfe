{
 "cells": [
  {
   "cell_type": "markdown",
   "id": "927b8949",
   "metadata": {
    "slideshow": {
     "slide_type": "slide"
    }
   },
   "source": [
    "# Nachhilfe ASOTE"
   ]
  },
  {
   "cell_type": "code",
   "execution_count": 2,
   "id": "ec64069a",
   "metadata": {
    "slideshow": {
     "slide_type": "subslide"
    }
   },
   "outputs": [
    {
     "name": "stdout",
     "output_type": "stream",
     "text": [
      "Hello, World!\n"
     ]
    }
   ],
   "source": [
    "print(\"Hello, World!\")"
   ]
  },
  {
   "cell_type": "code",
   "execution_count": 1,
   "id": "c8d32833",
   "metadata": {
    "slideshow": {
     "slide_type": "subslide"
    }
   },
   "outputs": [
    {
     "name": "stdout",
     "output_type": "stream",
     "text": [
      "Wie heißt du? 48\n",
      "Hello, 48!\n"
     ]
    }
   ],
   "source": [
    "name = input(\"Wie heißt du? \")\n",
    "print(\"Hello, \"+name+\"!\")"
   ]
  },
  {
   "cell_type": "code",
   "execution_count": null,
   "id": "00590307",
   "metadata": {
    "slideshow": {
     "slide_type": "subslide"
    }
   },
   "outputs": [],
   "source": [
    "# Wie lautet die Ausgabe?\n",
    "x = input(\"x= \")\n",
    "y = input(\"y= \")\n",
    "print(x+y)"
   ]
  },
  {
   "cell_type": "code",
   "execution_count": null,
   "id": "9a8652c6",
   "metadata": {
    "slideshow": {
     "slide_type": "subslide"
    }
   },
   "outputs": [],
   "source": [
    "x = 16\n",
    "y = 10\n",
    "print(x + y)"
   ]
  },
  {
   "cell_type": "code",
   "execution_count": null,
   "id": "eb6fcda9",
   "metadata": {
    "scrolled": true,
    "slideshow": {
     "slide_type": "subslide"
    }
   },
   "outputs": [],
   "source": [
    "x = \"16\"\n",
    "y = \"10\"\n",
    "print(x + y)"
   ]
  },
  {
   "cell_type": "markdown",
   "id": "65de2f4a",
   "metadata": {
    "slideshow": {
     "slide_type": "subslide"
    }
   },
   "source": [
    "Die Funktion ***input()*** gibt immer ***String*** zurück."
   ]
  },
  {
   "cell_type": "code",
   "execution_count": null,
   "id": "2e2c0f6d",
   "metadata": {
    "slideshow": {
     "slide_type": "subslide"
    }
   },
   "outputs": [],
   "source": [
    "# Wir lösen dieses Problem mit der Funktion int()\n",
    "x = int(input(\"x = \"))\n",
    "y = int(input(\"y = \"))\n",
    "print(x + y)"
   ]
  },
  {
   "cell_type": "code",
   "execution_count": 3,
   "id": "da916198",
   "metadata": {
    "slideshow": {
     "slide_type": "subslide"
    }
   },
   "outputs": [
    {
     "ename": "TypeError",
     "evalue": "can only concatenate str (not \"int\") to str",
     "output_type": "error",
     "traceback": [
      "\u001b[1;31m---------------------------------------------------------------------------\u001b[0m",
      "\u001b[1;31mTypeError\u001b[0m                                 Traceback (most recent call last)",
      "\u001b[1;32m~\\AppData\\Local\\Temp/ipykernel_14408/1815506054.py\u001b[0m in \u001b[0;36m<module>\u001b[1;34m\u001b[0m\n\u001b[0;32m      2\u001b[0m \u001b[0mage\u001b[0m \u001b[1;33m=\u001b[0m \u001b[1;36m20\u001b[0m\u001b[1;33m\u001b[0m\u001b[1;33m\u001b[0m\u001b[0m\n\u001b[0;32m      3\u001b[0m \u001b[0mname\u001b[0m \u001b[1;33m=\u001b[0m \u001b[1;34m\"Someone\"\u001b[0m\u001b[1;33m\u001b[0m\u001b[1;33m\u001b[0m\u001b[0m\n\u001b[1;32m----> 4\u001b[1;33m \u001b[0mprint\u001b[0m\u001b[1;33m(\u001b[0m\u001b[0mname\u001b[0m\u001b[1;33m+\u001b[0m\u001b[1;34m\" ist \"\u001b[0m\u001b[1;33m+\u001b[0m\u001b[0mage\u001b[0m\u001b[1;33m+\u001b[0m\u001b[1;34m\" Jahre alt.\"\u001b[0m\u001b[1;33m)\u001b[0m\u001b[1;33m\u001b[0m\u001b[1;33m\u001b[0m\u001b[0m\n\u001b[0m",
      "\u001b[1;31mTypeError\u001b[0m: can only concatenate str (not \"int\") to str"
     ]
    }
   ],
   "source": [
    "# Wie lautet die Ausgabe?\n",
    "age = 20\n",
    "name = \"Someone\"\n",
    "print(name+\" ist \"+age+\" Jahre alt.\")"
   ]
  },
  {
   "cell_type": "code",
   "execution_count": 4,
   "id": "a6690151",
   "metadata": {
    "slideshow": {
     "slide_type": "subslide"
    }
   },
   "outputs": [
    {
     "name": "stdout",
     "output_type": "stream",
     "text": [
      "Someone ist 20 Jahre alt.\n"
     ]
    }
   ],
   "source": [
    "# Wir lösen dieses Problem auch mit Typumwandelung mit der Funktion str()\n",
    "age = 20\n",
    "name = \"Someone\"\n",
    "print(name+\" ist \"+str(age)+\" Jahre alt.\")"
   ]
  },
  {
   "cell_type": "markdown",
   "id": "c31e99d6",
   "metadata": {
    "slideshow": {
     "slide_type": "fragment"
    }
   },
   "source": [
    "- In Python haben Variablen zwar keinen festen Datentyp, aber die Werte haben einen Datentyp."
   ]
  },
  {
   "cell_type": "code",
   "execution_count": 5,
   "id": "e05ea55c",
   "metadata": {
    "slideshow": {
     "slide_type": "subslide"
    }
   },
   "outputs": [
    {
     "name": "stdout",
     "output_type": "stream",
     "text": [
      "<class 'int'>\n",
      "<class 'str'>\n",
      "<class 'float'>\n",
      "<class 'bool'>\n",
      "<class 'list'>\n",
      "<class 'tuple'>\n"
     ]
    }
   ],
   "source": [
    "# mit der Funktion type(wert), kann man sich den Datentyp eines bestimmten Wertes ausgeben lassen.\n",
    "\n",
    "print(type(26))\n",
    "print(type(\"Hello, World\"))\n",
    "print(type(15.5))\n",
    "print(type(True))\n",
    "print(type([1,2,3,6]))\n",
    "print(type((2,4,5,6)))\n"
   ]
  },
  {
   "cell_type": "code",
   "execution_count": null,
   "id": "a98abe03",
   "metadata": {
    "slideshow": {
     "slide_type": "subslide"
    }
   },
   "outputs": [],
   "source": [
    "# Operatoren:\n",
    "print(16+4)\n",
    "print(16-4)\n",
    "print(16*4)\n",
    "print(16/4)  # Gleitkommadivision\n",
    "print(16//4) # Ganzzahldivision"
   ]
  },
  {
   "cell_type": "code",
   "execution_count": null,
   "id": "6e2674fb",
   "metadata": {
    "slideshow": {
     "slide_type": "subslide"
    }
   },
   "outputs": [],
   "source": [
    "# Modulo-Operator % \n",
    "print(16%4)\n",
    "print(16%3)"
   ]
  },
  {
   "cell_type": "markdown",
   "id": "75368ffb",
   "metadata": {
    "slideshow": {
     "slide_type": "subslide"
    }
   },
   "source": [
    "# Schleife (loop)"
   ]
  },
  {
   "cell_type": "code",
   "execution_count": null,
   "id": "65f0ef23",
   "metadata": {
    "slideshow": {
     "slide_type": "subslide"
    }
   },
   "outputs": [],
   "source": [
    "i = 0 \n",
    "while i < 7:\n",
    "    print(i)\n",
    "    i+=1"
   ]
  },
  {
   "cell_type": "markdown",
   "id": "b98c16cc",
   "metadata": {
    "slideshow": {
     "slide_type": "fragment"
    }
   },
   "source": [
    "- Bedingung: direkt hinter while und dann doppel punkt\n",
    "- Code Block: definiert durch Einrückung (Tap Taste)\n",
    "\n",
    "    "
   ]
  },
  {
   "cell_type": "code",
   "execution_count": null,
   "id": "9fba14fa",
   "metadata": {
    "slideshow": {
     "slide_type": "subslide"
    }
   },
   "outputs": [],
   "source": [
    "i = 0\n",
    "while i < 7:\n",
    "    print(i) # gehört zur Schleife\n",
    "    print(\"Ich bin in der while-Schleife\")\n",
    "    i += 1 # gehört zur Schleif\n",
    "print(\"Ich bin nicht in der Schleife\") # gehört nicht zur Schleife,\n",
    "                                       # wird nach Ablauf der Schleife ausgeführt"
   ]
  },
  {
   "cell_type": "markdown",
   "id": "a7892157",
   "metadata": {
    "slideshow": {
     "slide_type": "subslide"
    }
   },
   "source": [
    "# Verzweigungen (if-Statements)"
   ]
  },
  {
   "cell_type": "code",
   "execution_count": null,
   "id": "af73f847",
   "metadata": {
    "slideshow": {
     "slide_type": "subslide"
    }
   },
   "outputs": [],
   "source": [
    "x = int(input(\"Zahl: \"))\n",
    "if x > 10:\n",
    "    print(\"x ist großer als 10\")\n",
    "elif x == 10:\n",
    "    print(\"x ist 10\")\n",
    "else:\n",
    "    print(\"x ist kleiner als 10\")"
   ]
  },
  {
   "cell_type": "markdown",
   "id": "45c6b168",
   "metadata": {
    "slideshow": {
     "slide_type": "fragment"
    }
   },
   "source": [
    "- Bedingungen bzw. if-statements sind ähnlich zur while-Schleife.\n",
    "- Bedingung: direkt hinter ***if, elif, else*** und dann doppel punkt.\n",
    "- Code Block: definiert durch ***Einrückung*** (Tap Taste).\n"
   ]
  },
  {
   "cell_type": "markdown",
   "id": "2913c60b",
   "metadata": {
    "slideshow": {
     "slide_type": "subslide"
    }
   },
   "source": [
    "# Logische  Operatoren"
   ]
  },
  {
   "cell_type": "markdown",
   "id": "ea4027b3",
   "metadata": {
    "slideshow": {
     "slide_type": "fragment"
    }
   },
   "source": [
    "\n",
    "|Operator|Bedeutung| Ergebnis|\n",
    "|:- |:- | :- | \n",
    "|and|und| Beide richtig = True. Nur eine ist richtig = False\n",
    "|or|oder| Beide richtig = True. Nur eine ist richtig = True. Beide sind falsch = False\n",
    "|not|Negation\n",
    "|==|Gleichheit"
   ]
  },
  {
   "cell_type": "markdown",
   "id": "1511ae06",
   "metadata": {
    "slideshow": {
     "slide_type": "subslide"
    }
   },
   "source": [
    "# For-Schleife (for-loop)"
   ]
  },
  {
   "cell_type": "code",
   "execution_count": null,
   "id": "6c6473c4",
   "metadata": {
    "slideshow": {
     "slide_type": "subslide"
    }
   },
   "outputs": [],
   "source": [
    "for i in range(10):\n",
    "    print(i)"
   ]
  },
  {
   "cell_type": "code",
   "execution_count": null,
   "id": "1d11919c",
   "metadata": {
    "slideshow": {
     "slide_type": "subslide"
    }
   },
   "outputs": [],
   "source": [
    "for i in range(1,10):\n",
    "    print(i)"
   ]
  },
  {
   "cell_type": "code",
   "execution_count": null,
   "id": "627572de",
   "metadata": {
    "slideshow": {
     "slide_type": "subslide"
    }
   },
   "outputs": [],
   "source": [
    "for i in range(2,13,2):\n",
    "    print(i)"
   ]
  },
  {
   "cell_type": "markdown",
   "id": "70656721",
   "metadata": {
    "slideshow": {
     "slide_type": "subslide"
    }
   },
   "source": [
    "- for i in range(10) zähle von 0 bis 9.\n",
    "- for i in range(2,10) zähle von 2 bis 9\n",
    "- for i in range(2,10,2) zähle von 2 bis 9 mit Schrittweite 2.\n",
    "- _range(von, (n-1), steps)_"
   ]
  },
  {
   "cell_type": "markdown",
   "id": "b833a038",
   "metadata": {
    "slideshow": {
     "slide_type": "subslide"
    }
   },
   "source": [
    "# Funktionen\n",
    "- Wenn man seinen Code wiederholden soll, lieber eine Funktion definieren."
   ]
  },
  {
   "cell_type": "markdown",
   "id": "76b88c02",
   "metadata": {
    "slideshow": {
     "slide_type": "subslide"
    }
   },
   "source": [
    "### 1- Funktionen ohne Rückgabewert (void)"
   ]
  },
  {
   "cell_type": "code",
   "execution_count": null,
   "id": "742c42ef",
   "metadata": {
    "slideshow": {
     "slide_type": "subslide"
    }
   },
   "outputs": [],
   "source": [
    "def wiederholen():\n",
    "    print(\"Ich wiederhole meinen Code nicht!\")\n",
    "\n",
    "wiederholen()"
   ]
  },
  {
   "cell_type": "code",
   "execution_count": null,
   "id": "a04573ed",
   "metadata": {
    "slideshow": {
     "slide_type": "subslide"
    }
   },
   "outputs": [],
   "source": [
    "def hello(name, age):\n",
    "    print(\"Hello, \"+name+\"! \"+\"Du bist \"+str(age)+\" Jahre alt.\")\n",
    "    \n",
    "hello(\"Bro\",26)"
   ]
  },
  {
   "cell_type": "markdown",
   "id": "6aa1ef81",
   "metadata": {
    "slideshow": {
     "slide_type": "subslide"
    }
   },
   "source": [
    "### 2- Funktionen mit Rückgabewert \n",
    "- return wert: Funktion gibt uns einen Wert zurück, den wir z.B. in einer Variable speichern können."
   ]
  },
  {
   "cell_type": "code",
   "execution_count": 2,
   "id": "3e9bf54c",
   "metadata": {
    "slideshow": {
     "slide_type": "subslide"
    }
   },
   "outputs": [
    {
     "name": "stdout",
     "output_type": "stream",
     "text": [
      "13\n"
     ]
    }
   ],
   "source": [
    "def multiply(num1, num2):\n",
    "    \n",
    "    return num1*num2\n",
    "x = multiply(2, 4)\n",
    "x += 5\n",
    "print(x)"
   ]
  },
  {
   "cell_type": "markdown",
   "id": "5510b783",
   "metadata": {
    "slideshow": {
     "slide_type": "subslide"
    }
   },
   "source": [
    "# Exception-Handling\n",
    "- Exception: während der Ausführung festgestellte Ereignisse, die den Ablauf eines Programms unterbrechen (**NICHT FACH-Definition**)\n",
    "- z.B. Falsche user inputs"
   ]
  },
  {
   "cell_type": "code",
   "execution_count": null,
   "id": "036e184a",
   "metadata": {
    "slideshow": {
     "slide_type": "subslide"
    }
   },
   "outputs": [],
   "source": [
    "zaeler = int(input(\"Zähler: \"))\n",
    "nenner = int(input(\"Nenner: \"))\n",
    "\n",
    "result = zaeler/nenner\n",
    "print(result)"
   ]
  },
  {
   "cell_type": "code",
   "execution_count": null,
   "id": "c1909226",
   "metadata": {
    "slideshow": {
     "slide_type": "subslide"
    }
   },
   "outputs": [],
   "source": [
    "try:\n",
    "    zaeler = int(input(\"Zähler: \"))\n",
    "    nenner = int(input(\"Nenner: \"))\n",
    "    result = zaeler/nenner\n",
    "    print(result)\n",
    "    \n",
    "except ZeroDivisionError:\n",
    "    print(\"Falsche Eingabe\")\n",
    "    \n",
    "except ValueError:\n",
    "    print(\"Falsche Eingabe\")"
   ]
  },
  {
   "cell_type": "code",
   "execution_count": null,
   "id": "60089851",
   "metadata": {
    "slideshow": {
     "slide_type": "subslide"
    }
   },
   "outputs": [],
   "source": [
    "try:\n",
    "    zaeler = int(input(\"Zähler: \"))\n",
    "    nenner = int(input(\"Nenner: \"))\n",
    "    result = zaeler/nenner\n",
    "    print(result)\n",
    "    \n",
    "except ZeroDivisionError:\n",
    "    print(\"Falsche Eingabe\")\n",
    "    \n",
    "except ValueError as e:\n",
    "    print(e)"
   ]
  },
  {
   "cell_type": "markdown",
   "id": "032a7179",
   "metadata": {
    "slideshow": {
     "slide_type": "subslide"
    }
   },
   "source": [
    "# Übungsaufgaben"
   ]
  },
  {
   "cell_type": "code",
   "execution_count": 5,
   "id": "86ba74ba",
   "metadata": {
    "slideshow": {
     "slide_type": "subslide"
    }
   },
   "outputs": [],
   "source": [
    "# 1. Teste, ob diese zwei Variablen gleich sind:\n",
    "wert1 = \"000110110010001010101\"\n",
    "wert2 = \"000110110010010101101\""
   ]
  },
  {
   "cell_type": "code",
   "execution_count": 11,
   "id": "6e38633e",
   "metadata": {
    "slideshow": {
     "slide_type": "subslide"
    }
   },
   "outputs": [
    {
     "name": "stdout",
     "output_type": "stream",
     "text": [
      "10 > 7\n"
     ]
    }
   ],
   "source": [
    "# 2. Überprüfe, welche der beiden Variabeln größer ist und geb diese aus.\n",
    "wert1 = 0b00000111 # eine Binäre Zahl\n",
    "wert2 = 10"
   ]
  },
  {
   "cell_type": "markdown",
   "id": "ed45f820",
   "metadata": {
    "slideshow": {
     "slide_type": "subslide"
    }
   },
   "source": [
    "- Schreibe ein Programm, das nach dem Namen des Benutzers fragt. \n",
    "- Wenn der Name \"Bond\" ist, gibt das Programm \"Willkommen an Bord 007\" aus. \n",
    "- Andernfalls drucken Sie \"Guten Morgen, __name__ \". (Ersetzen Sie __name__ durch den Namen des Benutzers)."
   ]
  },
  {
   "cell_type": "code",
   "execution_count": null,
   "id": "3ded92fd",
   "metadata": {
    "slideshow": {
     "slide_type": "subslide"
    }
   },
   "outputs": [],
   "source": [
    "# 3. "
   ]
  },
  {
   "cell_type": "markdown",
   "id": "71178dad",
   "metadata": {
    "slideshow": {
     "slide_type": "subslide"
    }
   },
   "source": [
    "- Schreibe eine Funktion namens \"istGerade\", die überprüft, ob eine Zahl gerade ist."
   ]
  },
  {
   "cell_type": "code",
   "execution_count": null,
   "id": "63c9132f",
   "metadata": {
    "slideshow": {
     "slide_type": "subslide"
    }
   },
   "outputs": [],
   "source": [
    "# 4. "
   ]
  },
  {
   "cell_type": "markdown",
   "id": "13219643",
   "metadata": {
    "slideshow": {
     "slide_type": "subslide"
    }
   },
   "source": [
    "- Schreibe ein Programm, welches die Zahlen von 0 bis 10 ausgibt."
   ]
  },
  {
   "cell_type": "code",
   "execution_count": 1,
   "id": "64ef1508",
   "metadata": {
    "slideshow": {
     "slide_type": "subslide"
    }
   },
   "outputs": [],
   "source": [
    "# 5. "
   ]
  },
  {
   "cell_type": "markdown",
   "id": "d1d05a52",
   "metadata": {
    "slideshow": {
     "slide_type": "subslide"
    }
   },
   "source": [
    "- Schreibe ein Programm, um die Summe aller geraden Zahlen von 0 bis 10 einschlißlich 10 zu finden."
   ]
  },
  {
   "cell_type": "code",
   "execution_count": 4,
   "id": "6eee62b1",
   "metadata": {
    "slideshow": {
     "slide_type": "subslide"
    }
   },
   "outputs": [],
   "source": [
    "# 6."
   ]
  },
  {
   "cell_type": "markdown",
   "id": "f0a8962f",
   "metadata": {
    "slideshow": {
     "slide_type": "subslide"
    }
   },
   "source": [
    "- Schreibe ein Programm, um das Quadrat aller Zahlen von 0 bis 10 einschlißlich 10 zu finden."
   ]
  },
  {
   "cell_type": "code",
   "execution_count": 5,
   "id": "e9fe2187",
   "metadata": {
    "slideshow": {
     "slide_type": "subslide"
    }
   },
   "outputs": [],
   "source": [
    "# 7. "
   ]
  },
  {
   "cell_type": "markdown",
   "id": "6cc4b0dc",
   "metadata": {
    "slideshow": {
     "slide_type": "subslide"
    }
   },
   "source": [
    "- Schreibe ein Programm, um zu prüfen, ob eine gegebene Zahl eine Primzahl ist oder nicht."
   ]
  },
  {
   "cell_type": "code",
   "execution_count": 6,
   "id": "08254bd5",
   "metadata": {
    "slideshow": {
     "slide_type": "subslide"
    }
   },
   "outputs": [],
   "source": [
    "# 8."
   ]
  },
  {
   "cell_type": "markdown",
   "id": "602d4c8c",
   "metadata": {
    "slideshow": {
     "slide_type": "subslide"
    }
   },
   "source": [
    "- Schreibe eine Funktion, die eine Zahl als Parameter annimmt und prüf, ob die gegebene Zahl eine Primzahl ist oder nicht."
   ]
  },
  {
   "cell_type": "code",
   "execution_count": 8,
   "id": "24bbe4ce",
   "metadata": {
    "slideshow": {
     "slide_type": "subslide"
    }
   },
   "outputs": [],
   "source": [
    "# 9."
   ]
  },
  {
   "attachments": {
    "image.png": {
     "image/png": "[encoded data removed]"
    }
   },
   "cell_type": "markdown",
   "id": "6c0e39ae",
   "metadata": {
    "slideshow": {
     "slide_type": "subslide"
    }
   },
   "source": [
    "- Schreibe ein Programm, um quadratischer Gleichungen zu lösen.\n",
    "- Die Gleichung kann dabei keine, eine oder zwei Lösungen haben.\n",
    "- Eine quadratische Gleichung hat die Form: $ax^2 + bx + c = 0$\n",
    "- Für die Lösung benutze die Mitternachtformel: \"![image.png](attachment:image.png)http://my_site.com/my_picture.jpg\")\n",
    "- $D = b^2- 4ac$\n",
    "* D > 0, zwei reele Nullstellen\n",
    "* D = 0, eine Doppelte Nullstelle\n",
    "* D < 0, zwei komplexe Nullstellen --> Hier benutze nur: print(\"Lösung ist komplex\")"
   ]
  },
  {
   "cell_type": "code",
   "execution_count": null,
   "id": "f87ee87a",
   "metadata": {
    "slideshow": {
     "slide_type": "subslide"
    }
   },
   "outputs": [],
   "source": [
    "# 10."
   ]
  }
 ],
 "metadata": {
  "celltoolbar": "Slideshow",
  "kernelspec": {
   "display_name": "Python 3 (ipykernel)",
   "language": "python",
   "name": "python3"
  },
  "language_info": {
   "codemirror_mode": {
    "name": "ipython",
    "version": 3
   },
   "file_extension": ".py",
   "mimetype": "text/x-python",
   "name": "python",
   "nbconvert_exporter": "python",
   "pygments_lexer": "ipython3",
   "version": "3.9.7"
  },
  "vscode": {
   "interpreter": {
    "hash": "7b123d82fa6e0dffb906641240f8f50674d74cbd63896a6037868928f4236b99"
   }
  }
 },
 "nbformat": 4,
 "nbformat_minor": 5
}
